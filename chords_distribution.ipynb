{
 "cells": [
  {
   "cell_type": "code",
   "execution_count": 382,
   "metadata": {},
   "outputs": [],
   "source": [
    "import os\n",
    "from os.path import isfile, join, isdir\n",
    "import pathlib\n",
    "\n",
    "import numpy as np\n",
    "import pandas as pd\n",
    "import matplotlib.pyplot as plt\n",
    "import seaborn as sns\n",
    "\n",
    "%matplotlib inline\n",
    "plt.rcParams['figure.figsize'] = (14, 5)\n",
    "sns.set(style=\"whitegrid\")"
   ]
  },
  {
   "cell_type": "code",
   "execution_count": null,
   "metadata": {},
   "outputs": [],
   "source": []
  },
  {
   "cell_type": "code",
   "execution_count": 383,
   "metadata": {},
   "outputs": [],
   "source": [
    "# https://www.music-ir.org/mirex/wiki/2020:Audio_Chord_Estimation\n",
    "maj_chords = set(['C', 'C#', 'D', 'D#', 'E', 'F', 'F#', 'G', 'G#', 'A', 'A#', 'B'])\n",
    "min_chords = set([c + 'm' for c in maj_chords])\n",
    "\n",
    "seventh_labels = ['maj7', 'min7', '7']\n",
    "seventh_chords = set([c + l for l in seventh_labels for c in list(maj_chords)])\n",
    "\n",
    "inversions_labels = ['/3', 'min/b3', '/5', 'min/5']\n",
    "inversions_chords = set([c + l for l in inversions_labels for c in list(maj_chords)])\n",
    "\n",
    "seventh_inversions_labels = ['maj7/3', 'min7/b3', '7/3', 'maj7/5', 'min7/5', '7/5', 'maj7/7', 'min7/b7', '7/b7']"
   ]
  },
  {
   "cell_type": "code",
   "execution_count": 384,
   "metadata": {},
   "outputs": [],
   "source": [
    "def build_dataset(mypath, sep=' '):\n",
    "    datasets = []\n",
    "    dirs = [f for f in os.listdir(mypath) if isdir(join(mypath, f))]\n",
    "    for directory in dirs:\n",
    "        for file_name in os.listdir(mypath + directory):\n",
    "            file_path = join(mypath, directory, file_name)\n",
    "            if isfile(file_path) and file_path.endswith('.lab'):\n",
    "                chords_df = read_csv(file_path, sep=sep)\n",
    "                datasets.append(chords_df)\n",
    "                \n",
    "    chords_df = pd.concat(datasets)\n",
    "    chords_df.columns = ['start', 'end', 'label']\n",
    "    return chords_df\n",
    "\n",
    "beatles_df = build_dataset('data/beatles/chordlabs/')\n",
    "queen_df = build_dataset('data/queen/chordlabs/', sep='\\t')\n",
    "cking_df = build_dataset('data/carole_king/', sep='\\t')\n",
    "chords_df = pd.concat([beatles_df, queen_df, mjackson_df, cking_df])"
   ]
  },
  {
   "cell_type": "code",
   "execution_count": 385,
   "metadata": {},
   "outputs": [],
   "source": [
    "# For details, see https://www.music-ir.org/mirex/wiki/2020:Audio_Chord_Estimation\n",
    "chords_df['label'] = chords_df.label.str.replace('Db', 'C#', regex=False)\n",
    "chords_df['label'] = chords_df.label.str.replace('Eb', 'D#', regex=False)\n",
    "chords_df['label'] = chords_df.label.str.replace('Gb', 'F#', regex=False)\n",
    "chords_df['label'] = chords_df.label.str.replace('Ab', 'G#', regex=False)\n",
    "chords_df['label'] = chords_df.label.str.replace('Bb', 'A#', regex=False)\n",
    "\n",
    "chords_df['label'] = chords_df.label.str.replace('C:maj', 'C', regex=False)\n",
    "chords_df['label'] = chords_df.label.str.replace('C#:maj', 'C#', regex=False)\n",
    "chords_df['label'] = chords_df.label.str.replace('D:maj', 'D', regex=False)\n",
    "chords_df['label'] = chords_df.label.str.replace('D#:maj', 'D#', regex=False)\n",
    "chords_df['label'] = chords_df.label.str.replace('E:maj', 'E', regex=False)\n",
    "chords_df['label'] = chords_df.label.str.replace('F:maj', 'F', regex=False)\n",
    "chords_df['label'] = chords_df.label.str.replace('F#:maj', 'F#', regex=False)\n",
    "chords_df['label'] = chords_df.label.str.replace('G:maj', 'G', regex=False)\n",
    "chords_df['label'] = chords_df.label.str.replace('G#:maj', 'G#', regex=False)\n",
    "chords_df['label'] = chords_df.label.str.replace('A:maj', 'A', regex=False)\n",
    "chords_df['label'] = chords_df.label.str.replace('A#:maj', 'A#', regex=False)\n",
    "chords_df['label'] = chords_df.label.str.replace('B:maj', 'B', regex=False)\n",
    "\n",
    "chords_df['label'] = chords_df.label.str.replace(':maj7', 'maj7', regex=False)\n",
    "chords_df['label'] = chords_df.label.str.replace(':min7', 'min7', regex=False)\n",
    "chords_df['label'] = chords_df.label.str.replace(':min', 'm', regex=True)\n",
    "chords_df['label'] = chords_df.label.str.replace(':7', '7', regex=True)"
   ]
  },
  {
   "cell_type": "code",
   "execution_count": 386,
   "metadata": {},
   "outputs": [],
   "source": [
    "def mark_vocabulary(label):\n",
    "    if label in maj_chords:\n",
    "        return 'maj'\n",
    "    elif label in min_chords:\n",
    "        return 'min'\n",
    "    elif label in seventh_chords:\n",
    "        return 'seventh'\n",
    "    elif label in inversions_chords:\n",
    "        return 'inv'\n",
    "    elif label == 'N':\n",
    "        return 'N'\n",
    "    else:\n",
    "        return 'other'\n",
    "\n",
    "chords_df['vocab'] = chords_df.label.apply(lambda x: mark_vocabulary(x))"
   ]
  },
  {
   "cell_type": "code",
   "execution_count": 387,
   "metadata": {},
   "outputs": [
    {
     "data": {
      "image/png": "[encoded data removed]",
      "text/plain": [
       "<Figure size 1008x360 with 1 Axes>"
      ]
     },
     "metadata": {},
     "output_type": "display_data"
    }
   ],
   "source": [
    "chords_df\n",
    "ax = sns.countplot(x=\"vocab\", hue='vocab', data=chords_df, dodge=False)"
   ]
  },
  {
   "cell_type": "code",
   "execution_count": 388,
   "metadata": {},
   "outputs": [
    {
     "data": {
      "text/plain": [
       "vocab\n",
       "N          0.023776\n",
       "inv        0.039891\n",
       "maj        0.584596\n",
       "min        0.129887\n",
       "other      0.138928\n",
       "seventh    0.082922\n",
       "dtype: float64"
      ]
     },
     "execution_count": 388,
     "metadata": {},
     "output_type": "execute_result"
    }
   ],
   "source": [
    "chords_df.groupby('vocab').size() / len(chords_df)"
   ]
  },
  {
   "cell_type": "code",
   "execution_count": 389,
   "metadata": {},
   "outputs": [
    {
     "data": {
      "text/plain": [
       "array(['N', 'G:sus4(b7)', 'G', 'C', 'F', 'D', 'Bm', 'Em', 'D7', 'G/5',\n",
       "       'G:sus4/5', 'F9(*7)', 'Em/b3', 'B', 'G7', 'B7', 'D#m', 'C#', 'A#m',\n",
       "       'Emin7', 'A', 'F#m', 'F:dim', 'Gm', 'D:9', 'A7', 'C#m', 'G#', 'E6',\n",
       "       'E', 'G#m', 'B:aug', 'Dm', 'A#', 'A#7', 'A:sus4', 'A:9(11)', 'Am',\n",
       "       'C7', 'F7', 'F#m/5', 'Gm/b3', 'D/5', 'A/3', 'A7/5', 'Bm/5',\n",
       "       'A7/b7', 'C:9', 'E7', 'F#', 'F#:(1,4,b7)', 'D#', 'Em/5', 'C/3',\n",
       "       'G:sus4(2)/2', 'G/3', 'G#:aug', 'C/5', 'C#m/5', 'A/5', 'A/7',\n",
       "       'A/b7', 'A/6', 'A/b6', 'C/7', 'C/6', 'C/2', 'G:sus4(2)', 'Em/b7',\n",
       "       'Em/6', 'D/7', 'D/6', 'A/2', 'B/5', 'D(*1)/#1', 'E7/5', 'F#/5',\n",
       "       'D7/5', 'G/2', 'G/#4', 'A7/3', 'E:aug', 'B:9', 'E/5', 'E/7',\n",
       "       'C#m/b7', 'Dm/2', 'Dm/b3', 'Dm/4', 'Dm/5', 'E:9', 'A:aug',\n",
       "       'Dmin7(2,*b3,4)', 'D:(1,4)', 'D#:(1,4)', 'E:(1,4)', 'C:(1)',\n",
       "       'B:(1)', 'D6', 'A(9)/3', 'E:sus4(b7)', 'D/3', 'E:sus4', 'Amin7',\n",
       "       'D#:hdim7', 'A:9', 'A7(*5,13)', 'D:dim', 'A7(13)', 'G#7', 'D:dim7',\n",
       "       'Dm9', 'C:sus4', 'B:dim', 'F#min7', 'B6', 'Gmin7', 'G#min7/b3',\n",
       "       'G:9(*3,11)', 'D/2', 'E/b7', 'E/6', 'Dm/b7', 'Dm/6', 'C7/7',\n",
       "       'D#:dim/b5', 'F/3', 'C6/5', 'Dmin7/b3', 'Am/5', 'D/b7', 'D#/6',\n",
       "       'F/5', 'B:sus2', 'E:dim/b3', 'A:(1)', 'C6', 'C9', 'Fm', 'F#:sus4',\n",
       "       'D#7', 'C#7', 'E6/b7', 'G6/5', 'E/#4', 'E/4', 'E/3', 'G/b7',\n",
       "       'D:sus4', 'F9', 'Am/6', 'D7(#9)', 'D:(1)', 'E7(#9)', 'A6', 'D(2)',\n",
       "       'A:sus2', 'B:(6)', 'F#m9', 'G:(1)', 'G:(7)', 'G:(6)', 'G:aug',\n",
       "       'Bmin7', 'F(*3)', 'F/7', 'A:sus4/5', 'Am/b3', 'A#/5', 'Dmin7',\n",
       "       'Emin7(4)', 'A#/7', 'A#7/5', 'G(*1)/5', 'G#6', 'D#min7',\n",
       "       'F#:hdim7/b7', 'F#:hdim7', 'Am/b7', 'F6', 'F6/5', 'G#:dim7',\n",
       "       'A:dim7', 'B:hdim7/b7', 'B:(b3,5)', 'F#:aug', 'Cm', 'G#(2)/2',\n",
       "       'D#7/b7', 'Fmin7', 'D#/5', 'D#/3', 'G#/5', 'G7/3', 'G:(1,5)',\n",
       "       'Gm(9)/b3', 'G#:(1)', 'G6/3', 'Gm/5', 'A#/3', 'D6/5', 'G6/2', 'G6',\n",
       "       'F#:dim', 'D#:dim7', 'G:9(*3)', 'D(11)', 'D(9)', 'C(#11)',\n",
       "       'Dmin7/4', 'F/9', 'G#/7', 'G#/b7', 'A:dim/b5', 'A:dim7/b3',\n",
       "       'Fm/b7', 'F7/b7', 'D#:dim', 'Gm/b7', 'F:(1)', 'D#/2', 'A:dim/b3',\n",
       "       'A#/b7', 'A#:(1)', 'B/7', 'B/6', 'C#min7', 'G#:hdim7', 'B/3',\n",
       "       'C/9', 'F#:dim/b7', 'D7/2', 'G7/5', 'E7/3', 'F:9', 'D#:9',\n",
       "       'G#min7', 'F#:9', 'Cm6', 'F#mmaj7', 'Em6', 'A#min7', 'Cm(*b3)',\n",
       "       'G#(9)', 'F#7', 'D:sus4/5', 'E(b9)', 'F(9)/9', 'Bm/7', 'Bm/b7',\n",
       "       'Bm/6', 'C:sus4/4', 'A#(9)/9', 'B/9', 'A#/9', 'Amin7(*5,b6)',\n",
       "       'A7(#9)', 'Am(*5)', 'B:hdim7/b3', 'G:sus4', 'C(9)', 'Fm/5',\n",
       "       'Fm6/5', 'C#7/3', 'A#m/5', 'C#/3', 'D#6', 'B:dim7', 'B:sus4',\n",
       "       'D#:sus4', 'B(*3)', 'C#:sus4', 'G/9', 'A#6', 'D:9/5', 'F:aug',\n",
       "       'D(*3)', 'F(9)/5', 'Dmin7(4)/5', 'F(9)/6', 'F(9)', 'Dmin7(4)/b7',\n",
       "       'C/4', 'Emin7/b3', 'C:aug', 'Fm6', 'C:9(*3)', 'Fm6/b3', 'Fmin7/b3',\n",
       "       'A/9', 'Bm/b3', 'F#m/b3', 'F#(9)', 'Dmin7/b7', 'A:aug/#5',\n",
       "       'Emin7/b7', 'E:dim7/b3', 'C#/5', 'A:(1,2,4)', 'Amin7(*b3)',\n",
       "       'Dmin7(*b3)', 'E:(1)', 'C(2)', 'Am(2)', 'Em(*3)/5', 'C#7(*b5)',\n",
       "       'Em(*5)/b7', 'Em(*5)', 'F#:(1,4,b5)', 'Em(*b3)/5', 'C7(*5)',\n",
       "       'Emin7(*5)/b7', 'E:(1,2,5,b6)', 'A/b3', 'A/4', 'Gmmaj7/b3',\n",
       "       'Gmmaj7/5', 'D:sus4(9)', 'F#:dim/b3', 'F7(b9)', 'B:dim7/b9',\n",
       "       'A#:dim7/5', 'C:dim7', 'C:dim7/2', 'A#:dim7/7', 'A#:sus4(9)',\n",
       "       'A#:sus2(b7)', 'F/b7', 'F/6', 'Em(2)', 'E/b6', 'E/2', 'Am6',\n",
       "       'Em(9)', 'C7/3', 'G#9', 'Gm/4', 'G:9', 'C#:dim', 'D#:aug',\n",
       "       'D:sus4(b7)', 'G:dim/b3', 'G:dim', 'C(4)', 'A#m/b3', 'Am9', 'F#m6',\n",
       "       'G7/b2', 'G7/2', 'G7/b3', 'D:sus4(2)', 'A(*5)', 'E:(1,5)',\n",
       "       'E:(1,b7)/b7', 'C#:(1,b3)', 'C#:(1,b3)/b3', 'G:(1,b3,4)/b3',\n",
       "       'Gm(4)', 'C:(1,5)', 'E:sus2(b7)', 'Am/4', 'C#:dim/b3', 'A:sus4(2)',\n",
       "       'E:sus4(2)', 'C#:hdim7', 'Em/3', 'D:(1,5)', 'C(#4)/5', 'G:dim7',\n",
       "       'B:aug/3', 'E:aug(9,11)', 'C#m/4', 'Gmmaj7', 'F#7(#9)', 'C7/5',\n",
       "       'G6(9)', 'B7(#9)', 'Cmin7', 'Fm/b3', 'Fm/7', 'Fm/6', 'Fm/3',\n",
       "       'C#/7', 'A:dim', 'B:(5)', 'A#:9(11)', 'C7(b9)', 'G#:dim',\n",
       "       'A:(1,5)', 'F#:(1,5)', 'E:(1,b7)', 'B:(1,5)', 'A#:aug', 'D:aug',\n",
       "       'G#7/5', 'C7/b7', 'Fm(6)', 'G/4', 'A#:sus4', 'C#9', 'D#(13)',\n",
       "       'G#/3', 'A#7/3', 'D#7/3', 'C#/2', 'Cm/5', 'D#/4', 'Cb', 'C/b7',\n",
       "       'Gm9', 'Em9', 'A#/2', 'A#(9)', 'A#:dim', 'E:dim', 'C:sus4(b7)',\n",
       "       'E:9(11)', 'F#/4', 'G9', 'F#:sus4(b7)', 'Am(9)', 'Em6/6',\n",
       "       'D:(4,b7,9)', 'D:9(11)', 'Gmin7/5', 'Amin7/5', 'A:9/5', 'E(4)',\n",
       "       'A(9)', 'E7/b7', 'D/4', 'F:(1,5,9)', 'Em/7', 'Cm9', 'Dmin7/7',\n",
       "       'G#/2', 'F/2', 'F:6', 'Cmin7/4', 'A#7/2', 'G#7/3', 'D9', 'D:6',\n",
       "       'G:6', 'A:6', 'G/6', 'E:sus', 'E7sus', 'D:(*5)', 'B7sus',\n",
       "       'Bmin7/4', 'D#7/#5', 'E:4', 'A#:dim/5', 'Cm/b7', 'Cm/6', 'C#:6',\n",
       "       'C#m/6', 'F#7/3', 'A:sus4(b7)', 'Emin7/4', 'Em/4', 'C#:6/2',\n",
       "       'G#:6', 'A#min7/4', 'C#6/2', 'C#/#4'], dtype=object)"
      ]
     },
     "execution_count": 389,
     "metadata": {},
     "output_type": "execute_result"
    }
   ],
   "source": [
    "chords_df.label.unique()"
   ]
  },
  {
   "cell_type": "code",
   "execution_count": 390,
   "metadata": {},
   "outputs": [
    {
     "data": {
      "text/plain": [
       "label\n",
       "Am/b7       0.097921\n",
       "Em/b3       0.086472\n",
       "F6          0.073516\n",
       "C/7         0.023200\n",
       "F#:sus4     0.015667\n",
       "              ...   \n",
       "C#/#4       0.000301\n",
       "E7sus       0.000301\n",
       "C#/7        0.000301\n",
       "C#7(*b5)    0.000301\n",
       "D:9(11)     0.000301\n",
       "Length: 395, dtype: float64"
      ]
     },
     "execution_count": 390,
     "metadata": {},
     "output_type": "execute_result"
    }
   ],
   "source": [
    "other = chords_df[chords_df.vocab == 'other']\n",
    "other.groupby('label').size().sort_values(ascending=False) / len(other)"
   ]
  },
  {
   "cell_type": "code",
   "execution_count": null,
   "metadata": {},
   "outputs": [],
   "source": []
  }
 ],
 "metadata": {
  "kernelspec": {
   "display_name": "Python 3",
   "language": "python",
   "name": "python3"
  },
  "language_info": {
   "codemirror_mode": {
    "name": "ipython",
    "version": 3
   },
   "file_extension": ".py",
   "mimetype": "text/x-python",
   "name": "python",
   "nbconvert_exporter": "python",
   "pygments_lexer": "ipython3",
   "version": "3.7.6"
  }
 },
 "nbformat": 4,
 "nbformat_minor": 4
}
