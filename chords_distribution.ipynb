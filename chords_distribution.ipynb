{
 "cells": [
  {
   "cell_type": "code",
   "execution_count": 4,
   "metadata": {},
   "outputs": [],
   "source": [
    "import os\n",
    "from os.path import isfile, join, isdir\n",
    "import pathlib\n",
    "\n",
    "import numpy as np\n",
    "import pandas as pd\n",
    "import matplotlib.pyplot as plt\n",
    "import seaborn as sns\n",
    "from torch.utils.data import ConcatDataset\n",
    "\n",
    "from chord_recognition.dataset import MirexFameDataset, FrameLabelDataset, make_frame_df\n",
    "\n",
    "%matplotlib inline\n",
    "plt.rcParams['figure.figsize'] = (14, 5)\n",
    "sns.set(style=\"whitegrid\")"
   ]
  },
  {
   "cell_type": "code",
   "execution_count": null,
   "metadata": {},
   "outputs": [],
   "source": []
  },
  {
   "cell_type": "code",
   "execution_count": 2,
   "metadata": {},
   "outputs": [],
   "source": [
    "# https://www.music-ir.org/mirex/wiki/2020:Audio_Chord_Estimation\n",
    "maj_chords = set(['C', 'C#', 'D', 'D#', 'E', 'F', 'F#', 'G', 'G#', 'A', 'A#', 'B'])\n",
    "min_chords = set([c + 'm' for c in maj_chords])\n",
    "\n",
    "seventh_labels = ['maj7', 'min7', '7']\n",
    "seventh_chords = set([c + l for l in seventh_labels for c in list(maj_chords)])\n",
    "\n",
    "inversions_labels = ['/3', 'min/b3', '/5', 'min/5']\n",
    "inversions_chords = set([c + l for l in inversions_labels for c in list(maj_chords)])\n",
    "\n",
    "seventh_inversions_labels = ['maj7/3', 'min7/b3', '7/3', 'maj7/5', 'min7/5', '7/5', 'maj7/7', 'min7/b7', '7/b7']"
   ]
  },
  {
   "cell_type": "code",
   "execution_count": 3,
   "metadata": {},
   "outputs": [],
   "source": [
    "from utils import read_csv\n",
    "\n",
    "def build_dataset(mypath, sep=' '):\n",
    "    datasets = []\n",
    "    dirs = [f for f in os.listdir(mypath) if isdir(join(mypath, f))]\n",
    "    for root, dirs, filenames in os.walk(mypath):\n",
    "        for file_name in filenames:\n",
    "            file_path = join(root, file_name)\n",
    "            if isfile(file_path) and file_path.endswith('.lab'):\n",
    "                chords_df = read_csv(file_path, sep=sep)\n",
    "                datasets.append(chords_df)\n",
    "                \n",
    "    chords_df = pd.concat(datasets)\n",
    "    chords_df.columns = ['start', 'end', 'label']\n",
    "    return chords_df\n",
    "\n",
    "def build_file_dataset(file_path, sep=' '):\n",
    "    chords_df = pd.DataFrame()\n",
    "    if isfile(file_path) and file_path.endswith('.lab'):\n",
    "        chords_df = read_csv(file_path, sep=sep)\n",
    "    chords_df.columns = ['start', 'end', 'label']\n",
    "    return chords_df\n",
    "\n",
    "def mark_vocabulary(label):\n",
    "    if label in maj_chords:\n",
    "        return 'maj'\n",
    "    elif label in min_chords:\n",
    "        return 'min'\n",
    "    elif label in seventh_chords:\n",
    "        return 'seventh'\n",
    "    elif label in inversions_chords:\n",
    "        return 'inv'\n",
    "    elif label == 'N':\n",
    "        return 'N'\n",
    "    else:\n",
    "        return 'other'"
   ]
  },
  {
   "cell_type": "code",
   "execution_count": 4,
   "metadata": {},
   "outputs": [],
   "source": [
    "def preprocess_chords(df):\n",
    "    chords_df = df.copy()\n",
    "    # For details, see https://www.music-ir.org/mirex/wiki/2020:Audio_Chord_Estimation\n",
    "    chords_df['label'] = chords_df.label.str.replace('Db', 'C#', regex=False)\n",
    "    chords_df['label'] = chords_df.label.str.replace('Eb', 'D#', regex=False)\n",
    "    chords_df['label'] = chords_df.label.str.replace('Gb', 'F#', regex=False)\n",
    "    chords_df['label'] = chords_df.label.str.replace('Ab', 'G#', regex=False)\n",
    "    chords_df['label'] = chords_df.label.str.replace('Bb', 'A#', regex=False)\n",
    "    \n",
    "    chords_df['label'] = chords_df.label.str.replace('C:maj', 'C', regex=False)\n",
    "    chords_df['label'] = chords_df.label.str.replace('C#:maj', 'C#', regex=False)\n",
    "    chords_df['label'] = chords_df.label.str.replace('D:maj', 'D', regex=False)\n",
    "    chords_df['label'] = chords_df.label.str.replace('D#:maj', 'D#', regex=False)\n",
    "    chords_df['label'] = chords_df.label.str.replace('E:maj', 'E', regex=False)\n",
    "    chords_df['label'] = chords_df.label.str.replace('F:maj', 'F', regex=False)\n",
    "    chords_df['label'] = chords_df.label.str.replace('F#:maj', 'F#', regex=False)\n",
    "    chords_df['label'] = chords_df.label.str.replace('G:maj', 'G', regex=False)\n",
    "    chords_df['label'] = chords_df.label.str.replace('G#:maj', 'G#', regex=False)\n",
    "    chords_df['label'] = chords_df.label.str.replace('A:maj', 'A', regex=False)\n",
    "    chords_df['label'] = chords_df.label.str.replace('A#:maj', 'A#', regex=False)\n",
    "    chords_df['label'] = chords_df.label.str.replace('B:maj', 'B', regex=False)\n",
    "    \n",
    "    chords_df['label'] = chords_df.label.str.replace(':maj7', 'maj7', regex=False)\n",
    "    chords_df['label'] = chords_df.label.str.replace(':min7', 'min7', regex=False)\n",
    "    chords_df['label'] = chords_df.label.str.replace(':min', 'm', regex=True)\n",
    "    chords_df['label'] = chords_df.label.str.replace(':7', '7', regex=True)\n",
    "    \n",
    "    chords_df['vocab'] = chords_df.label.apply(lambda x: mark_vocabulary(x))\n",
    "    return chords_df"
   ]
  },
  {
   "cell_type": "code",
   "execution_count": 5,
   "metadata": {},
   "outputs": [],
   "source": [
    "def chord_distribution(df, title='Chord distribution'):\n",
    "    print(df.groupby('vocab').size() / len(df))\n",
    "    ax = sns.countplot(x=\"vocab\", hue='vocab', data=df, dodge=False).set_title(title)"
   ]
  },
  {
   "cell_type": "code",
   "execution_count": 7,
   "metadata": {},
   "outputs": [],
   "source": [
    "beatles_df = build_dataset('data/beatles/chordlabs/')\n",
    "# queen_df = build_dataset('data/queen/chordlabs/', sep='\\t')\n",
    "# cking_df = build_dataset('data/carole_king/', sep='\\t')\n",
    "chords_df = beatles_df#pd.concat([beatles_df, queen_df])"
   ]
  },
  {
   "cell_type": "code",
   "execution_count": 8,
   "metadata": {},
   "outputs": [
    {
     "name": "stdout",
     "output_type": "stream",
     "text": [
      "vocab\n",
      "N          0.027275\n",
      "inv        0.041667\n",
      "maj        0.573396\n",
      "min        0.141516\n",
      "other      0.132675\n",
      "seventh    0.083470\n",
      "dtype: float64\n"
     ]
    },
    {
     "data": {
      "image/png": "[encoded data removed]",
      "text/plain": [
       "<Figure size 1008x360 with 1 Axes>"
      ]
     },
     "metadata": {},
     "output_type": "display_data"
    }
   ],
   "source": [
    "chords_df = preprocess_chords(chords_df)\n",
    "chord_distribution(chords_df, 'Beatles & Queen')"
   ]
  },
  {
   "cell_type": "code",
   "execution_count": 9,
   "metadata": {},
   "outputs": [
    {
     "data": {
      "text/plain": [
       "14592"
      ]
     },
     "execution_count": 9,
     "metadata": {},
     "output_type": "execute_result"
    }
   ],
   "source": [
    "len(chords_df)"
   ]
  },
  {
   "cell_type": "code",
   "execution_count": null,
   "metadata": {},
   "outputs": [],
   "source": [
    "rwilliams_df = build_dataset('data/robbie_williams/chordlabs/', sep='\\t')\n",
    "df = preprocess_chords(rwilliams_df)\n",
    "chord_distribution(df, 'Robbie Williams')"
   ]
  },
  {
   "cell_type": "code",
   "execution_count": 29,
   "metadata": {},
   "outputs": [
    {
     "name": "stdout",
     "output_type": "stream",
     "text": [
      "vocab\n",
      "N          0.016949\n",
      "maj        0.677966\n",
      "min        0.296610\n",
      "seventh    0.008475\n",
      "dtype: float64\n"
     ]
    },
    {
     "data": {
      "image/png": "[encoded data removed]",
      "text/plain": [
       "<Figure size 1008x360 with 1 Axes>"
      ]
     },
     "metadata": {},
     "output_type": "display_data"
    }
   ],
   "source": [
    "df = build_file_dataset(\"data/robbie_williams/chordlabs/2000-Sing When You're Winning/11-By All Means Necessary.lab\", sep='\\t')\n",
    "df = preprocess_chords(df)\n",
    "chord_distribution(df, 'By All Means Necessary')"
   ]
  },
  {
   "cell_type": "code",
   "execution_count": null,
   "metadata": {},
   "outputs": [],
   "source": [
    "df.groupby('label').nunique().sort_values('start', ascending=False)"
   ]
  },
  {
   "cell_type": "code",
   "execution_count": null,
   "metadata": {},
   "outputs": [],
   "source": [
    "chords_df[chords_df.label.isin(list(maj_chords) + list(min_chords))].groupby('label').nunique().sort_values('start', ascending=False)\n",
    "#chords_df.groupby('label').nunique().sort_values('start', ascending=False)"
   ]
  },
  {
   "cell_type": "code",
   "execution_count": null,
   "metadata": {},
   "outputs": [],
   "source": [
    "pd.options.display.max_rows = 500\n",
    "#pd.set_option('max_rows', 25)"
   ]
  },
  {
   "cell_type": "code",
   "execution_count": 6,
   "metadata": {},
   "outputs": [],
   "source": [
    "def print_maj_min_count(df):\n",
    "    print(df.groupby('label').count())"
   ]
  },
  {
   "cell_type": "code",
   "execution_count": 3,
   "metadata": {},
   "outputs": [
    {
     "ename": "NameError",
     "evalue": "name 'FrameLabelDataset' is not defined",
     "output_type": "error",
     "traceback": [
      "\u001b[0;31m---------------------------------------------------------------------------\u001b[0m",
      "\u001b[0;31mNameError\u001b[0m                                 Traceback (most recent call last)",
      "\u001b[0;32m<ipython-input-3-7dc2abfe3626>\u001b[0m in \u001b[0;36m<module>\u001b[0;34m\u001b[0m\n\u001b[0;32m----> 1\u001b[0;31m beatles = FrameLabelDataset(audio_dir='data/beatles/mp3s-32k/',\n\u001b[0m\u001b[1;32m      2\u001b[0m                             \u001b[0mann_dir\u001b[0m\u001b[0;34m=\u001b[0m\u001b[0;34m'data/beatles/chordlabs/'\u001b[0m\u001b[0;34m,\u001b[0m\u001b[0;34m\u001b[0m\u001b[0;34m\u001b[0m\u001b[0m\n\u001b[1;32m      3\u001b[0m                             window_size=8192, hop_length=4096)\n\u001b[1;32m      4\u001b[0m queen = FrameLabelDataset(audio_dir='data/queen/mp3/',\n\u001b[1;32m      5\u001b[0m                           \u001b[0mann_dir\u001b[0m\u001b[0;34m=\u001b[0m\u001b[0;34m'data/queen/chordlabs/'\u001b[0m\u001b[0;34m,\u001b[0m\u001b[0;34m\u001b[0m\u001b[0;34m\u001b[0m\u001b[0m\n",
      "\u001b[0;31mNameError\u001b[0m: name 'FrameLabelDataset' is not defined"
     ]
    }
   ],
   "source": [
    "beatles = FrameLabelDataset(audio_dir='data/beatles/mp3s-32k/',\n",
    "                            ann_dir='data/beatles/chordlabs/',\n",
    "                            window_size=8192, hop_length=4096)\n",
    "queen = FrameLabelDataset(audio_dir='data/queen/mp3/',\n",
    "                          ann_dir='data/queen/chordlabs/',\n",
    "                          window_size=8192, hop_length=4096)"
   ]
  },
  {
   "cell_type": "code",
   "execution_count": 8,
   "metadata": {},
   "outputs": [],
   "source": [
    "df = pd.concat(\n",
    "    [pd.DataFrame(beatles.labels, columns=('label',)),\n",
    "     pd.DataFrame(queen.labels, columns=('label',))])\n",
    "df = df[df.label.isin(list(maj_chords) + list(min_chords) + ['N'])]\n",
    "df['start'] = 0"
   ]
  },
  {
   "cell_type": "code",
   "execution_count": null,
   "metadata": {},
   "outputs": [],
   "source": []
  },
  {
   "cell_type": "code",
   "execution_count": 21,
   "metadata": {},
   "outputs": [],
   "source": [
    "augmented_df = pd.read_csv('data/augmented/augmented_semitone.csv', names=('label',))\n",
    "augmented_df['start'] = 0"
   ]
  },
  {
   "cell_type": "code",
   "execution_count": null,
   "metadata": {},
   "outputs": [],
   "source": []
  },
  {
   "cell_type": "code",
   "execution_count": 24,
   "metadata": {},
   "outputs": [],
   "source": [
    "etd = pd.concat([df, augmented_df])"
   ]
  },
  {
   "cell_type": "code",
   "execution_count": null,
   "metadata": {},
   "outputs": [],
   "source": []
  },
  {
   "cell_type": "code",
   "execution_count": 25,
   "metadata": {},
   "outputs": [
    {
     "data": {
      "text/plain": [
       "<matplotlib.axes._subplots.AxesSubplot at 0x13b5fb690>"
      ]
     },
     "execution_count": 25,
     "metadata": {},
     "output_type": "execute_result"
    },
    {
     "data": {
      "image/png": "[encoded data removed]",
      "text/plain": [
       "<Figure size 1008x360 with 1 Axes>"
      ]
     },
     "metadata": {},
     "output_type": "display_data"
    }
   ],
   "source": [
    "sns.countplot('label', data=etd.sort_values(['label']))"
   ]
  },
  {
   "cell_type": "code",
   "execution_count": 17,
   "metadata": {},
   "outputs": [
    {
     "data": {
      "text/plain": [
       "<matplotlib.axes._subplots.AxesSubplot at 0x13aa58510>"
      ]
     },
     "execution_count": 17,
     "metadata": {},
     "output_type": "execute_result"
    },
    {
     "data": {
      "image/png": "[encoded data removed]",
      "text/plain": [
       "<Figure size 1008x360 with 1 Axes>"
      ]
     },
     "metadata": {},
     "output_type": "display_data"
    }
   ],
   "source": [
    "sns.countplot('label', data=df.sort_values(['label']))"
   ]
  },
  {
   "cell_type": "code",
   "execution_count": 23,
   "metadata": {},
   "outputs": [
    {
     "data": {
      "text/plain": [
       "<matplotlib.axes._subplots.AxesSubplot at 0x13ab93850>"
      ]
     },
     "execution_count": 23,
     "metadata": {},
     "output_type": "execute_result"
    },
    {
     "data": {
      "image/png": "[encoded data removed]",
      "text/plain": [
       "<Figure size 1008x360 with 1 Axes>"
      ]
     },
     "metadata": {},
     "output_type": "display_data"
    }
   ],
   "source": [
    "sns.countplot('label', data=augmented_df.sort_values(['label']))"
   ]
  },
  {
   "cell_type": "code",
   "execution_count": 22,
   "metadata": {},
   "outputs": [
    {
     "data": {
      "text/plain": [
       "(123762, 124539)"
      ]
     },
     "execution_count": 22,
     "metadata": {},
     "output_type": "execute_result"
    }
   ],
   "source": [
    "len(df), len(augmented_df)"
   ]
  },
  {
   "cell_type": "code",
   "execution_count": null,
   "metadata": {},
   "outputs": [],
   "source": []
  }
 ],
 "metadata": {
  "kernelspec": {
   "display_name": "Python 3",
   "language": "python",
   "name": "python3"
  },
  "language_info": {
   "codemirror_mode": {
    "name": "ipython",
    "version": 3
   },
   "file_extension": ".py",
   "mimetype": "text/x-python",
   "name": "python",
   "nbconvert_exporter": "python",
   "pygments_lexer": "ipython3",
   "version": "3.8.6"
  }
 },
 "nbformat": 4,
 "nbformat_minor": 4
}
