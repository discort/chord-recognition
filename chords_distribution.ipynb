{
 "cells": [
  {
   "cell_type": "code",
   "execution_count": 6,
   "metadata": {},
   "outputs": [],
   "source": [
    "import os\n",
    "from os.path import isfile, join, isdir\n",
    "import pathlib\n",
    "\n",
    "import numpy as np\n",
    "import pandas as pd\n",
    "import matplotlib.pyplot as plt\n",
    "import seaborn as sns\n",
    "from torch.utils.data import ConcatDataset\n",
    "\n",
    "from chord_recognition.dataset import FrameLabelDataset, make_frame_df\n",
    "from chord_recognition.utils import read_csv\n",
    "\n",
    "%matplotlib inline\n",
    "plt.rcParams['figure.figsize'] = (14, 5)\n",
    "sns.set(style=\"whitegrid\")"
   ]
  },
  {
   "cell_type": "code",
   "execution_count": 7,
   "metadata": {},
   "outputs": [],
   "source": [
    "# https://www.music-ir.org/mirex/wiki/2020:Audio_Chord_Estimation\n",
    "maj_chords = set(['C', 'C#', 'D', 'D#', 'E', 'F', 'F#', 'G', 'G#', 'A', 'A#', 'B'])\n",
    "min_chords = set([c + 'm' for c in maj_chords])\n",
    "\n",
    "seventh_labels = ['maj7', 'min7', '7']\n",
    "seventh_chords = set([c + l for l in seventh_labels for c in list(maj_chords)])\n",
    "\n",
    "inversions_labels = ['/3', 'min/b3', '/5', 'min/5']\n",
    "inversions_chords = set([c + l for l in inversions_labels for c in list(maj_chords)])\n",
    "\n",
    "seventh_inversions_labels = ['maj7/3', 'min7/b3', '7/3', 'maj7/5', 'min7/5', '7/5', 'maj7/7', 'min7/b7', '7/b7']"
   ]
  },
  {
   "cell_type": "code",
   "execution_count": 8,
   "metadata": {},
   "outputs": [],
   "source": [
    "def build_dataset(mypath, sep=' '):\n",
    "    datasets = []\n",
    "    dirs = [f for f in os.listdir(mypath) if isdir(join(mypath, f))]\n",
    "    for root, dirs, filenames in os.walk(mypath):\n",
    "        for file_name in filenames:\n",
    "            file_path = join(root, file_name)\n",
    "            if isfile(file_path) and file_path.endswith('.lab'):\n",
    "                chords_df = read_csv(file_path, sep=sep)\n",
    "                datasets.append(chords_df)\n",
    "                \n",
    "    chords_df = pd.concat(datasets)\n",
    "    chords_df.columns = ['start', 'end', 'label']\n",
    "    return chords_df\n",
    "\n",
    "def build_file_dataset(file_path, sep=' '):\n",
    "    chords_df = pd.DataFrame()\n",
    "    if isfile(file_path) and file_path.endswith('.lab'):\n",
    "        chords_df = read_csv(file_path, sep=sep)\n",
    "    chords_df.columns = ['start', 'end', 'label']\n",
    "    return chords_df\n",
    "\n",
    "def mark_vocabulary(label):\n",
    "    if label in maj_chords:\n",
    "        return 'maj'\n",
    "    elif label in min_chords:\n",
    "        return 'min'\n",
    "    elif label in seventh_chords:\n",
    "        return 'seventh'\n",
    "    elif label in inversions_chords:\n",
    "        return 'inv'\n",
    "    elif label == 'N':\n",
    "        return 'N'\n",
    "    else:\n",
    "        return 'other'"
   ]
  },
  {
   "cell_type": "code",
   "execution_count": 9,
   "metadata": {},
   "outputs": [],
   "source": [
    "def preprocess_chords(df):\n",
    "    chords_df = df.copy()\n",
    "    # For details, see https://www.music-ir.org/mirex/wiki/2020:Audio_Chord_Estimation\n",
    "    chords_df['label'] = chords_df.label.str.replace('Db', 'C#', regex=False)\n",
    "    chords_df['label'] = chords_df.label.str.replace('Eb', 'D#', regex=False)\n",
    "    chords_df['label'] = chords_df.label.str.replace('Gb', 'F#', regex=False)\n",
    "    chords_df['label'] = chords_df.label.str.replace('Ab', 'G#', regex=False)\n",
    "    chords_df['label'] = chords_df.label.str.replace('Bb', 'A#', regex=False)\n",
    "    \n",
    "    chords_df['label'] = chords_df.label.str.replace('C:maj', 'C', regex=False)\n",
    "    chords_df['label'] = chords_df.label.str.replace('C#:maj', 'C#', regex=False)\n",
    "    chords_df['label'] = chords_df.label.str.replace('D:maj', 'D', regex=False)\n",
    "    chords_df['label'] = chords_df.label.str.replace('D#:maj', 'D#', regex=False)\n",
    "    chords_df['label'] = chords_df.label.str.replace('E:maj', 'E', regex=False)\n",
    "    chords_df['label'] = chords_df.label.str.replace('F:maj', 'F', regex=False)\n",
    "    chords_df['label'] = chords_df.label.str.replace('F#:maj', 'F#', regex=False)\n",
    "    chords_df['label'] = chords_df.label.str.replace('G:maj', 'G', regex=False)\n",
    "    chords_df['label'] = chords_df.label.str.replace('G#:maj', 'G#', regex=False)\n",
    "    chords_df['label'] = chords_df.label.str.replace('A:maj', 'A', regex=False)\n",
    "    chords_df['label'] = chords_df.label.str.replace('A#:maj', 'A#', regex=False)\n",
    "    chords_df['label'] = chords_df.label.str.replace('B:maj', 'B', regex=False)\n",
    "    \n",
    "    chords_df['label'] = chords_df.label.str.replace(':maj7', 'maj7', regex=False)\n",
    "    chords_df['label'] = chords_df.label.str.replace(':min7', 'min7', regex=False)\n",
    "    chords_df['label'] = chords_df.label.str.replace(':min', 'm', regex=True)\n",
    "    chords_df['label'] = chords_df.label.str.replace(':7', '7', regex=True)\n",
    "    \n",
    "    chords_df['vocab'] = chords_df.label.apply(lambda x: mark_vocabulary(x))\n",
    "    return chords_df"
   ]
  },
  {
   "cell_type": "code",
   "execution_count": 10,
   "metadata": {},
   "outputs": [],
   "source": [
    "def chord_distribution(df, title='Chord distribution'):\n",
    "    print(df.groupby('vocab').size() / len(df))\n",
    "    ax = sns.countplot(x=\"vocab\", hue='vocab', data=df, dodge=False).set_title(title)"
   ]
  },
  {
   "cell_type": "code",
   "execution_count": 11,
   "metadata": {},
   "outputs": [],
   "source": [
    "beatles_df = build_dataset('data/beatles/chordlabs/')\n",
    "# queen_df = build_dataset('data/queen/chordlabs/', sep='\\t')\n",
    "# cking_df = build_dataset('data/carole_king/', sep='\\t')\n",
    "chords_df = beatles_df#pd.concat([beatles_df, queen_df])"
   ]
  },
  {
   "cell_type": "code",
   "execution_count": 12,
   "metadata": {},
   "outputs": [
    {
     "name": "stdout",
     "output_type": "stream",
     "text": [
      "vocab\n",
      "N          0.027275\n",
      "inv        0.041667\n",
      "maj        0.573396\n",
      "min        0.141516\n",
      "other      0.132675\n",
      "seventh    0.083470\n",
      "dtype: float64\n"
     ]
    },
    {
     "data": {
      "image/png": "[encoded data removed]",
      "text/plain": [
       "<Figure size 1008x360 with 1 Axes>"
      ]
     },
     "metadata": {},
     "output_type": "display_data"
    }
   ],
   "source": [
    "chords_df = preprocess_chords(chords_df)\n",
    "chord_distribution(chords_df, 'Beatles & Queen')"
   ]
  },
  {
   "cell_type": "code",
   "execution_count": null,
   "metadata": {},
   "outputs": [],
   "source": []
  },
  {
   "cell_type": "code",
   "execution_count": 13,
   "metadata": {},
   "outputs": [
    {
     "name": "stdout",
     "output_type": "stream",
     "text": [
      "vocab\n",
      "N          0.017260\n",
      "inv        0.027188\n",
      "maj        0.634642\n",
      "min        0.202077\n",
      "other      0.079120\n",
      "seventh    0.039713\n",
      "dtype: float64\n"
     ]
    },
    {
     "data": {
      "image/png": "[encoded data removed]",
      "text/plain": [
       "<Figure size 1008x360 with 1 Axes>"
      ]
     },
     "metadata": {},
     "output_type": "display_data"
    }
   ],
   "source": [
    "rwilliams_df = build_dataset('data/robbie_williams/chordlabs/', sep='\\t')\n",
    "df = preprocess_chords(rwilliams_df)\n",
    "chord_distribution(df, 'Robbie Williams')"
   ]
  },
  {
   "cell_type": "code",
   "execution_count": 14,
   "metadata": {},
   "outputs": [
    {
     "name": "stdout",
     "output_type": "stream",
     "text": [
      "vocab\n",
      "N          0.016949\n",
      "maj        0.677966\n",
      "min        0.296610\n",
      "seventh    0.008475\n",
      "dtype: float64\n"
     ]
    },
    {
     "data": {
      "image/png": "[encoded data removed]",
      "text/plain": [
       "<Figure size 1008x360 with 1 Axes>"
      ]
     },
     "metadata": {},
     "output_type": "display_data"
    }
   ],
   "source": [
    "df = build_file_dataset(\"data/robbie_williams/chordlabs/2000-Sing When You're Winning/11-By All Means Necessary.lab\", sep='\\t')\n",
    "df = preprocess_chords(df)\n",
    "chord_distribution(df, 'By All Means Necessary')"
   ]
  },
  {
   "cell_type": "code",
   "execution_count": 15,
   "metadata": {},
   "outputs": [
    {
     "data": {
      "text/html": [
       "<div>\n",
       "<style scoped>\n",
       "    .dataframe tbody tr th:only-of-type {\n",
       "        vertical-align: middle;\n",
       "    }\n",
       "\n",
       "    .dataframe tbody tr th {\n",
       "        vertical-align: top;\n",
       "    }\n",
       "\n",
       "    .dataframe thead th {\n",
       "        text-align: right;\n",
       "    }\n",
       "</style>\n",
       "<table border=\"1\" class=\"dataframe\">\n",
       "  <thead>\n",
       "    <tr style=\"text-align: right;\">\n",
       "      <th></th>\n",
       "      <th>start</th>\n",
       "      <th>end</th>\n",
       "      <th>label</th>\n",
       "      <th>vocab</th>\n",
       "    </tr>\n",
       "    <tr>\n",
       "      <th>label</th>\n",
       "      <th></th>\n",
       "      <th></th>\n",
       "      <th></th>\n",
       "      <th></th>\n",
       "    </tr>\n",
       "  </thead>\n",
       "  <tbody>\n",
       "    <tr>\n",
       "      <th>Em</th>\n",
       "      <td>21</td>\n",
       "      <td>21</td>\n",
       "      <td>1</td>\n",
       "      <td>1</td>\n",
       "    </tr>\n",
       "    <tr>\n",
       "      <th>A</th>\n",
       "      <td>20</td>\n",
       "      <td>20</td>\n",
       "      <td>1</td>\n",
       "      <td>1</td>\n",
       "    </tr>\n",
       "    <tr>\n",
       "      <th>B</th>\n",
       "      <td>15</td>\n",
       "      <td>15</td>\n",
       "      <td>1</td>\n",
       "      <td>1</td>\n",
       "    </tr>\n",
       "    <tr>\n",
       "      <th>C</th>\n",
       "      <td>13</td>\n",
       "      <td>13</td>\n",
       "      <td>1</td>\n",
       "      <td>1</td>\n",
       "    </tr>\n",
       "    <tr>\n",
       "      <th>D</th>\n",
       "      <td>13</td>\n",
       "      <td>13</td>\n",
       "      <td>1</td>\n",
       "      <td>1</td>\n",
       "    </tr>\n",
       "    <tr>\n",
       "      <th>G</th>\n",
       "      <td>11</td>\n",
       "      <td>11</td>\n",
       "      <td>1</td>\n",
       "      <td>1</td>\n",
       "    </tr>\n",
       "    <tr>\n",
       "      <th>E</th>\n",
       "      <td>6</td>\n",
       "      <td>6</td>\n",
       "      <td>1</td>\n",
       "      <td>1</td>\n",
       "    </tr>\n",
       "    <tr>\n",
       "      <th>Am</th>\n",
       "      <td>5</td>\n",
       "      <td>5</td>\n",
       "      <td>1</td>\n",
       "      <td>1</td>\n",
       "    </tr>\n",
       "    <tr>\n",
       "      <th>Dm</th>\n",
       "      <td>4</td>\n",
       "      <td>4</td>\n",
       "      <td>1</td>\n",
       "      <td>1</td>\n",
       "    </tr>\n",
       "    <tr>\n",
       "      <th>Bm</th>\n",
       "      <td>3</td>\n",
       "      <td>3</td>\n",
       "      <td>1</td>\n",
       "      <td>1</td>\n",
       "    </tr>\n",
       "    <tr>\n",
       "      <th>C#m</th>\n",
       "      <td>2</td>\n",
       "      <td>2</td>\n",
       "      <td>1</td>\n",
       "      <td>1</td>\n",
       "    </tr>\n",
       "    <tr>\n",
       "      <th>F#</th>\n",
       "      <td>2</td>\n",
       "      <td>2</td>\n",
       "      <td>1</td>\n",
       "      <td>1</td>\n",
       "    </tr>\n",
       "    <tr>\n",
       "      <th>N</th>\n",
       "      <td>2</td>\n",
       "      <td>2</td>\n",
       "      <td>1</td>\n",
       "      <td>1</td>\n",
       "    </tr>\n",
       "    <tr>\n",
       "      <th>C7</th>\n",
       "      <td>1</td>\n",
       "      <td>1</td>\n",
       "      <td>1</td>\n",
       "      <td>1</td>\n",
       "    </tr>\n",
       "  </tbody>\n",
       "</table>\n",
       "</div>"
      ],
      "text/plain": [
       "       start  end  label  vocab\n",
       "label                          \n",
       "Em        21   21      1      1\n",
       "A         20   20      1      1\n",
       "B         15   15      1      1\n",
       "C         13   13      1      1\n",
       "D         13   13      1      1\n",
       "G         11   11      1      1\n",
       "E          6    6      1      1\n",
       "Am         5    5      1      1\n",
       "Dm         4    4      1      1\n",
       "Bm         3    3      1      1\n",
       "C#m        2    2      1      1\n",
       "F#         2    2      1      1\n",
       "N          2    2      1      1\n",
       "C7         1    1      1      1"
      ]
     },
     "execution_count": 15,
     "metadata": {},
     "output_type": "execute_result"
    }
   ],
   "source": [
    "df.groupby('label').nunique().sort_values('start', ascending=False)"
   ]
  },
  {
   "cell_type": "code",
   "execution_count": 16,
   "metadata": {},
   "outputs": [
    {
     "data": {
      "text/html": [
       "<div>\n",
       "<style scoped>\n",
       "    .dataframe tbody tr th:only-of-type {\n",
       "        vertical-align: middle;\n",
       "    }\n",
       "\n",
       "    .dataframe tbody tr th {\n",
       "        vertical-align: top;\n",
       "    }\n",
       "\n",
       "    .dataframe thead th {\n",
       "        text-align: right;\n",
       "    }\n",
       "</style>\n",
       "<table border=\"1\" class=\"dataframe\">\n",
       "  <thead>\n",
       "    <tr style=\"text-align: right;\">\n",
       "      <th></th>\n",
       "      <th>start</th>\n",
       "      <th>end</th>\n",
       "      <th>label</th>\n",
       "      <th>vocab</th>\n",
       "    </tr>\n",
       "    <tr>\n",
       "      <th>label</th>\n",
       "      <th></th>\n",
       "      <th></th>\n",
       "      <th></th>\n",
       "      <th></th>\n",
       "    </tr>\n",
       "  </thead>\n",
       "  <tbody>\n",
       "    <tr>\n",
       "      <th>A</th>\n",
       "      <td>1567</td>\n",
       "      <td>1566</td>\n",
       "      <td>1</td>\n",
       "      <td>1</td>\n",
       "    </tr>\n",
       "    <tr>\n",
       "      <th>G</th>\n",
       "      <td>1385</td>\n",
       "      <td>1384</td>\n",
       "      <td>1</td>\n",
       "      <td>1</td>\n",
       "    </tr>\n",
       "    <tr>\n",
       "      <th>D</th>\n",
       "      <td>1352</td>\n",
       "      <td>1351</td>\n",
       "      <td>1</td>\n",
       "      <td>1</td>\n",
       "    </tr>\n",
       "    <tr>\n",
       "      <th>E</th>\n",
       "      <td>1038</td>\n",
       "      <td>1038</td>\n",
       "      <td>1</td>\n",
       "      <td>1</td>\n",
       "    </tr>\n",
       "    <tr>\n",
       "      <th>C</th>\n",
       "      <td>964</td>\n",
       "      <td>966</td>\n",
       "      <td>1</td>\n",
       "      <td>1</td>\n",
       "    </tr>\n",
       "    <tr>\n",
       "      <th>B</th>\n",
       "      <td>503</td>\n",
       "      <td>503</td>\n",
       "      <td>1</td>\n",
       "      <td>1</td>\n",
       "    </tr>\n",
       "    <tr>\n",
       "      <th>F</th>\n",
       "      <td>489</td>\n",
       "      <td>489</td>\n",
       "      <td>1</td>\n",
       "      <td>1</td>\n",
       "    </tr>\n",
       "    <tr>\n",
       "      <th>Am</th>\n",
       "      <td>365</td>\n",
       "      <td>365</td>\n",
       "      <td>1</td>\n",
       "      <td>1</td>\n",
       "    </tr>\n",
       "    <tr>\n",
       "      <th>Em</th>\n",
       "      <td>336</td>\n",
       "      <td>336</td>\n",
       "      <td>1</td>\n",
       "      <td>1</td>\n",
       "    </tr>\n",
       "    <tr>\n",
       "      <th>A#</th>\n",
       "      <td>319</td>\n",
       "      <td>319</td>\n",
       "      <td>1</td>\n",
       "      <td>1</td>\n",
       "    </tr>\n",
       "    <tr>\n",
       "      <th>Bm</th>\n",
       "      <td>293</td>\n",
       "      <td>293</td>\n",
       "      <td>1</td>\n",
       "      <td>1</td>\n",
       "    </tr>\n",
       "    <tr>\n",
       "      <th>F#m</th>\n",
       "      <td>293</td>\n",
       "      <td>293</td>\n",
       "      <td>1</td>\n",
       "      <td>1</td>\n",
       "    </tr>\n",
       "    <tr>\n",
       "      <th>F#</th>\n",
       "      <td>227</td>\n",
       "      <td>227</td>\n",
       "      <td>1</td>\n",
       "      <td>1</td>\n",
       "    </tr>\n",
       "    <tr>\n",
       "      <th>Dm</th>\n",
       "      <td>197</td>\n",
       "      <td>197</td>\n",
       "      <td>1</td>\n",
       "      <td>1</td>\n",
       "    </tr>\n",
       "    <tr>\n",
       "      <th>G#</th>\n",
       "      <td>194</td>\n",
       "      <td>194</td>\n",
       "      <td>1</td>\n",
       "      <td>1</td>\n",
       "    </tr>\n",
       "    <tr>\n",
       "      <th>C#m</th>\n",
       "      <td>167</td>\n",
       "      <td>167</td>\n",
       "      <td>1</td>\n",
       "      <td>1</td>\n",
       "    </tr>\n",
       "    <tr>\n",
       "      <th>D#</th>\n",
       "      <td>166</td>\n",
       "      <td>166</td>\n",
       "      <td>1</td>\n",
       "      <td>1</td>\n",
       "    </tr>\n",
       "    <tr>\n",
       "      <th>C#</th>\n",
       "      <td>158</td>\n",
       "      <td>158</td>\n",
       "      <td>1</td>\n",
       "      <td>1</td>\n",
       "    </tr>\n",
       "    <tr>\n",
       "      <th>Gm</th>\n",
       "      <td>111</td>\n",
       "      <td>111</td>\n",
       "      <td>1</td>\n",
       "      <td>1</td>\n",
       "    </tr>\n",
       "    <tr>\n",
       "      <th>G#m</th>\n",
       "      <td>89</td>\n",
       "      <td>89</td>\n",
       "      <td>1</td>\n",
       "      <td>1</td>\n",
       "    </tr>\n",
       "    <tr>\n",
       "      <th>Fm</th>\n",
       "      <td>84</td>\n",
       "      <td>84</td>\n",
       "      <td>1</td>\n",
       "      <td>1</td>\n",
       "    </tr>\n",
       "    <tr>\n",
       "      <th>Cm</th>\n",
       "      <td>54</td>\n",
       "      <td>54</td>\n",
       "      <td>1</td>\n",
       "      <td>1</td>\n",
       "    </tr>\n",
       "    <tr>\n",
       "      <th>A#m</th>\n",
       "      <td>51</td>\n",
       "      <td>51</td>\n",
       "      <td>1</td>\n",
       "      <td>1</td>\n",
       "    </tr>\n",
       "    <tr>\n",
       "      <th>D#m</th>\n",
       "      <td>25</td>\n",
       "      <td>25</td>\n",
       "      <td>1</td>\n",
       "      <td>1</td>\n",
       "    </tr>\n",
       "  </tbody>\n",
       "</table>\n",
       "</div>"
      ],
      "text/plain": [
       "       start   end  label  vocab\n",
       "label                           \n",
       "A       1567  1566      1      1\n",
       "G       1385  1384      1      1\n",
       "D       1352  1351      1      1\n",
       "E       1038  1038      1      1\n",
       "C        964   966      1      1\n",
       "B        503   503      1      1\n",
       "F        489   489      1      1\n",
       "Am       365   365      1      1\n",
       "Em       336   336      1      1\n",
       "A#       319   319      1      1\n",
       "Bm       293   293      1      1\n",
       "F#m      293   293      1      1\n",
       "F#       227   227      1      1\n",
       "Dm       197   197      1      1\n",
       "G#       194   194      1      1\n",
       "C#m      167   167      1      1\n",
       "D#       166   166      1      1\n",
       "C#       158   158      1      1\n",
       "Gm       111   111      1      1\n",
       "G#m       89    89      1      1\n",
       "Fm        84    84      1      1\n",
       "Cm        54    54      1      1\n",
       "A#m       51    51      1      1\n",
       "D#m       25    25      1      1"
      ]
     },
     "execution_count": 16,
     "metadata": {},
     "output_type": "execute_result"
    }
   ],
   "source": [
    "chords_df[chords_df.label.isin(list(maj_chords) + list(min_chords))].groupby('label').nunique().sort_values('start', ascending=False)\n",
    "#chords_df.groupby('label').nunique().sort_values('start', ascending=False)"
   ]
  },
  {
   "cell_type": "code",
   "execution_count": 17,
   "metadata": {},
   "outputs": [],
   "source": [
    "beatles = FrameLabelDataset(audio_dir='data/beatles/mp3s-32k/',\n",
    "                            ann_dir='data/beatles/chordlabs/',\n",
    "                            window_size=8192, hop_length=4096)\n",
    "queen = FrameLabelDataset(audio_dir='data/queen/mp3/',\n",
    "                          ann_dir='data/queen/chordlabs/',\n",
    "                          window_size=8192, hop_length=4096)"
   ]
  },
  {
   "cell_type": "code",
   "execution_count": 18,
   "metadata": {},
   "outputs": [],
   "source": [
    "df = pd.concat(\n",
    "    [pd.DataFrame(beatles.labels, columns=('label',)),\n",
    "     pd.DataFrame(queen.labels, columns=('label',))])\n",
    "df = df[df.label.isin(list(maj_chords) + list(min_chords) + ['N'])]\n",
    "df['start'] = 0"
   ]
  },
  {
   "cell_type": "code",
   "execution_count": null,
   "metadata": {},
   "outputs": [],
   "source": []
  },
  {
   "cell_type": "code",
   "execution_count": 19,
   "metadata": {},
   "outputs": [],
   "source": [
    "augmented_df = pd.read_csv('data/augmented/augmented_semitone.csv', names=('label',))\n",
    "augmented_df['start'] = 0"
   ]
  },
  {
   "cell_type": "code",
   "execution_count": null,
   "metadata": {},
   "outputs": [],
   "source": []
  },
  {
   "cell_type": "code",
   "execution_count": 20,
   "metadata": {},
   "outputs": [],
   "source": [
    "etd = pd.concat([df, augmented_df])"
   ]
  },
  {
   "cell_type": "code",
   "execution_count": null,
   "metadata": {},
   "outputs": [],
   "source": []
  },
  {
   "cell_type": "code",
   "execution_count": 21,
   "metadata": {},
   "outputs": [
    {
     "data": {
      "text/plain": [
       "<AxesSubplot:xlabel='label', ylabel='count'>"
      ]
     },
     "execution_count": 21,
     "metadata": {},
     "output_type": "execute_result"
    },
    {
     "data": {
      "image/png": "[encoded data removed]",
      "text/plain": [
       "<Figure size 1008x360 with 1 Axes>"
      ]
     },
     "metadata": {},
     "output_type": "display_data"
    }
   ],
   "source": [
    "sns.countplot('label', data=etd.sort_values(['label']))"
   ]
  },
  {
   "cell_type": "code",
   "execution_count": 22,
   "metadata": {},
   "outputs": [
    {
     "data": {
      "text/plain": [
       "<AxesSubplot:xlabel='label', ylabel='count'>"
      ]
     },
     "execution_count": 22,
     "metadata": {},
     "output_type": "execute_result"
    },
    {
     "data": {
      "image/png": "[encoded data removed]",
      "text/plain": [
       "<Figure size 1008x360 with 1 Axes>"
      ]
     },
     "metadata": {},
     "output_type": "display_data"
    }
   ],
   "source": [
    "sns.countplot('label', data=df.sort_values(['label']))"
   ]
  },
  {
   "cell_type": "code",
   "execution_count": 23,
   "metadata": {},
   "outputs": [
    {
     "data": {
      "text/plain": [
       "<AxesSubplot:xlabel='label', ylabel='count'>"
      ]
     },
     "execution_count": 23,
     "metadata": {},
     "output_type": "execute_result"
    },
    {
     "data": {
      "image/png": "[encoded data removed]",
      "text/plain": [
       "<Figure size 1008x360 with 1 Axes>"
      ]
     },
     "metadata": {},
     "output_type": "display_data"
    }
   ],
   "source": [
    "sns.countplot('label', data=augmented_df.sort_values(['label']))"
   ]
  },
  {
   "cell_type": "code",
   "execution_count": null,
   "metadata": {},
   "outputs": [],
   "source": []
  },
  {
   "cell_type": "code",
   "execution_count": null,
   "metadata": {},
   "outputs": [],
   "source": []
  }
 ],
 "metadata": {
  "kernelspec": {
   "display_name": "Python 3",
   "language": "python",
   "name": "python3"
  },
  "language_info": {
   "codemirror_mode": {
    "name": "ipython",
    "version": 3
   },
   "file_extension": ".py",
   "mimetype": "text/x-python",
   "name": "python",
   "nbconvert_exporter": "python",
   "pygments_lexer": "ipython3",
   "version": "3.8.6"
  }
 },
 "nbformat": 4,
 "nbformat_minor": 4
}
