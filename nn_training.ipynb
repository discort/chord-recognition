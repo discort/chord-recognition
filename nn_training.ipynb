{
 "cells": [
  {
   "cell_type": "code",
   "execution_count": 2,
   "metadata": {},
   "outputs": [
    {
     "name": "stdout",
     "output_type": "stream",
     "text": [
      "The autoreload extension is already loaded. To reload it, use:\n",
      "  %reload_ext autoreload\n"
     ]
    }
   ],
   "source": [
    "import itertools\n",
    "import os\n",
    "\n",
    "import numpy as np\n",
    "import pandas as pd\n",
    "import matplotlib.pyplot as plt\n",
    "\n",
    "import torch\n",
    "import torch.optim as optim\n",
    "from torch.utils.data import DataLoader, Dataset\n",
    "from sklearn.metrics import confusion_matrix\n",
    "from sklearn.model_selection import train_test_split\n",
    "\n",
    "from chord_recognition.cache import HDF5Cache\n",
    "from chord_recognition.cnn import deep_auditory_v2\n",
    "from chord_recognition.dataset import ChromaDataset, prepare_datasource, balanced_datasource, undersample_dataset\n",
    "from chord_recognition.utils import Rescale, preprocess_spectrogram\n",
    "from chord_recognition.train import get_weighted_random_sampler, Solver\n",
    "\n",
    "torch.manual_seed(2020)\n",
    "RANDOM_STATE = 42\n",
    "\n",
    "%matplotlib inline\n",
    "plt.rcParams['figure.figsize'] = (14, 5)\n",
    "\n",
    "%load_ext autoreload\n",
    "%autoreload 2"
   ]
  },
  {
   "cell_type": "code",
   "execution_count": 45,
   "metadata": {},
   "outputs": [],
   "source": [
    "# Exp1\n",
    "# datasource = prepare_datasource(('queen', 'beatles', 'robbie_williams', 'zweieck'))\n",
    "# Exp2\n",
    "# datasource = balanced_datasource\n",
    "model = deep_auditory_v2()"
   ]
  },
  {
   "cell_type": "code",
   "execution_count": 3,
   "metadata": {},
   "outputs": [],
   "source": [
    "# Exp3\n",
    "# Balance datasets separately and concat them into single dataset.\n",
    "\n",
    "# Balance beatles dataset\n",
    "ds = prepare_datasource(('beatles',))\n",
    "dataset = ChromaDataset(\n",
    "    ds, window_size=8192, hop_length=4096,\n",
    "    cache=HDF5Cache('chroma_cache.hdf5'))\n",
    "\n",
    "sampling_strategy = {\n",
    "    0: 8000,\n",
    "    2: 8000,\n",
    "    4: 8000,\n",
    "    5: 8000,\n",
    "    7: 8000,\n",
    "    9: 8000,\n",
    "    11: 8000,\n",
    "    24: 8000,\n",
    "}\n",
    "beatles_X, beatles_y = undersample_dataset(\n",
    "    dataset,\n",
    "    sampling_strategy,\n",
    "    RANDOM_STATE)\n",
    "\n",
    "# Balance robbie_williams dataset\n",
    "ds = prepare_datasource(('robbie_williams',))\n",
    "dataset = ChromaDataset(\n",
    "    ds, window_size=8192, hop_length=4096,\n",
    "    cache=HDF5Cache('chroma_cache.hdf5'))\n",
    "\n",
    "sampling_strategy = {\n",
    "    0: 8000,\n",
    "    2: 8000,\n",
    "    5: 8000,\n",
    "    7: 8000,\n",
    "    9: 8000,\n",
    "    24: 5000,\n",
    "}\n",
    "robbie_williams_X, robbie_williams_y = undersample_dataset(\n",
    "    dataset,\n",
    "    sampling_strategy,\n",
    "    RANDOM_STATE)\n",
    "\n",
    "# Balance queen dataset\n",
    "ds = prepare_datasource(('queen',))\n",
    "dataset = ChromaDataset(\n",
    "    ds, window_size=8192, hop_length=4096,\n",
    "    cache=HDF5Cache('chroma_cache.hdf5'))\n",
    "\n",
    "sampling_strategy = {\n",
    "    2: 4500,\n",
    "}\n",
    "queen_X, queen_y = undersample_dataset(\n",
    "    dataset,\n",
    "    sampling_strategy,\n",
    "    RANDOM_STATE)\n",
    "\n",
    "# Get zweieck data\n",
    "ds = prepare_datasource(('zweieck',))\n",
    "dataset = ChromaDataset(\n",
    "    ds, window_size=8192, hop_length=4096,\n",
    "    cache=HDF5Cache('chroma_cache.hdf5'))\n",
    "\n",
    "zweieck_X = [xi for xi, _ in dataset]\n",
    "zweieck_y = [yi for _, yi in dataset]"
   ]
  },
  {
   "cell_type": "code",
   "execution_count": 4,
   "metadata": {},
   "outputs": [],
   "source": [
    "# Concat all datasets\n",
    "dataset = itertools.chain(\n",
    "    zip(beatles_X, beatles_y),\n",
    "    zip(robbie_williams_X, robbie_williams_y),\n",
    "    zip(beatles_X, beatles_y),\n",
    "    zip(queen_X, queen_y),\n",
    "    zip(zweieck_X, zweieck_y),\n",
    ")"
   ]
  },
  {
   "cell_type": "code",
   "execution_count": 5,
   "metadata": {},
   "outputs": [],
   "source": [
    "# Split dataset into train/val keeping equal proportions of the each class\n",
    "# Now train and val datasets have equal class probability distributions.\n",
    "ds1, ds2 = itertools.tee(dataset)\n",
    "X = [s for s, _ in ds1]\n",
    "targets = [t for _, t in ds2]\n",
    "indices = np.arange(len(X))\n",
    "X_train, X_val, y_train, y_val, _, _ = train_test_split(\n",
    "    X, targets, indices, test_size=0.2, stratify=targets, random_state=RANDOM_STATE)\n",
    "\n",
    "# Cleanup memory\n",
    "#del beatles_X, beatles_y, robbie_williams_X, robbie_williams_y, beatles_X, beatles_y, queen_X, queen_y\n",
    "#del zweieck_X, zweieck_y"
   ]
  },
  {
   "cell_type": "code",
   "execution_count": 40,
   "metadata": {},
   "outputs": [],
   "source": [
    "# Calculate TRAIN_MEAN, TRAIN_STD\n",
    "#\n",
    "# Uncomment, calculate and paste values to utils.py\n",
    "#\n",
    "#X_train = np.hstack([sample.squeeze(0) for sample in X_train])\n",
    "#TRAIN_MEAN = X_train.mean(axis=1)\n",
    "#TRAIN_MEAN\n",
    "#TRAIN_STD = X_train.std(axis=1)\n",
    "#TRAIN_STD\n",
    "#i, j = next(dataset)\n",
    "#len(X_train), len(X_val)"
   ]
  },
  {
   "cell_type": "code",
   "execution_count": 6,
   "metadata": {},
   "outputs": [],
   "source": [
    "# Balance the classes in each batch which hopefully helps the training.\n",
    "sampler = get_weighted_random_sampler(targets, y_train)\n",
    "# del X, targets, X_train, y_train"
   ]
  },
  {
   "cell_type": "code",
   "execution_count": 7,
   "metadata": {},
   "outputs": [
    {
     "data": {
      "text/plain": [
       "(357066, 89267)"
      ]
     },
     "execution_count": 7,
     "metadata": {},
     "output_type": "execute_result"
    }
   ],
   "source": [
    "len(X_train), len(X_val)"
   ]
  },
  {
   "cell_type": "code",
   "execution_count": 8,
   "metadata": {},
   "outputs": [],
   "source": [
    "batch_size = 512\n",
    "\n",
    "# Split dataset into train/val datasets\n",
    "# Make sure that train and val datasets have equal class probability distributions.\n",
    "loader_train = DataLoader(\n",
    "    dataset=[(preprocess_spectrogram(i), t) for i, t in zip(X_train, y_train)],\n",
    "    batch_size=batch_size,\n",
    "    sampler=sampler,\n",
    "    pin_memory=True,\n",
    "    num_workers=0)\n",
    "loader_val = DataLoader(\n",
    "    dataset=[(preprocess_spectrogram(i), t) for i, t in zip(X_val, y_val)],\n",
    "    num_workers=0,\n",
    "    batch_size=batch_size)\n",
    "\n",
    "dataloaders = {\n",
    "    \"train\": loader_train,\n",
    "    \"val\": loader_val\n",
    "}"
   ]
  },
  {
   "cell_type": "code",
   "execution_count": 39,
   "metadata": {
    "scrolled": false
   },
   "outputs": [
    {
     "name": "stdout",
     "output_type": "stream",
     "text": [
      "tensor(3.2086, grad_fn=<NllLossBackward>)\n"
     ]
    },
    {
     "ename": "AttributeError",
     "evalue": "'int' object has no attribute 'float'",
     "output_type": "error",
     "traceback": [
      "\u001b[0;31m---------------------------------------------------------------------------\u001b[0m",
      "\u001b[0;31mAttributeError\u001b[0m                            Traceback (most recent call last)",
      "\u001b[0;32m<ipython-input-39-c35fdfb420d4>\u001b[0m in \u001b[0;36m<module>\u001b[0;34m\u001b[0m\n\u001b[1;32m      9\u001b[0m     \u001b[0mlearning_rate\u001b[0m\u001b[0;34m=\u001b[0m\u001b[0mlearning_rate\u001b[0m\u001b[0;34m,\u001b[0m\u001b[0;34m\u001b[0m\u001b[0;34m\u001b[0m\u001b[0m\n\u001b[1;32m     10\u001b[0m     epochs=epochs)\n\u001b[0;32m---> 11\u001b[0;31m \u001b[0msolver\u001b[0m\u001b[0;34m.\u001b[0m\u001b[0mtrain\u001b[0m\u001b[0;34m(\u001b[0m\u001b[0;34m)\u001b[0m\u001b[0;34m\u001b[0m\u001b[0;34m\u001b[0m\u001b[0m\n\u001b[0m",
      "\u001b[0;32m~/ml-course/chord-recognition/chord_recognition/train.py\u001b[0m in \u001b[0;36mtrain\u001b[0;34m(self)\u001b[0m\n\u001b[1;32m    108\u001b[0m \u001b[0;34m\u001b[0m\u001b[0m\n\u001b[1;32m    109\u001b[0m                 \u001b[0mepoch_loss\u001b[0m \u001b[0;34m=\u001b[0m \u001b[0mrunning_loss\u001b[0m \u001b[0;34m/\u001b[0m \u001b[0mlen\u001b[0m\u001b[0;34m(\u001b[0m\u001b[0mself\u001b[0m\u001b[0;34m.\u001b[0m\u001b[0mdataloaders\u001b[0m\u001b[0;34m[\u001b[0m\u001b[0mphase\u001b[0m\u001b[0;34m]\u001b[0m\u001b[0;34m.\u001b[0m\u001b[0mdataset\u001b[0m\u001b[0;34m)\u001b[0m\u001b[0;34m\u001b[0m\u001b[0;34m\u001b[0m\u001b[0m\n\u001b[0;32m--> 110\u001b[0;31m                 \u001b[0mepoch_acc\u001b[0m \u001b[0;34m=\u001b[0m \u001b[0mrunning_corrects\u001b[0m\u001b[0;34m.\u001b[0m\u001b[0mfloat\u001b[0m\u001b[0;34m(\u001b[0m\u001b[0;34m)\u001b[0m \u001b[0;34m/\u001b[0m \u001b[0mlen\u001b[0m\u001b[0;34m(\u001b[0m\u001b[0mself\u001b[0m\u001b[0;34m.\u001b[0m\u001b[0mdataloaders\u001b[0m\u001b[0;34m[\u001b[0m\u001b[0mphase\u001b[0m\u001b[0;34m]\u001b[0m\u001b[0;34m.\u001b[0m\u001b[0mdataset\u001b[0m\u001b[0;34m)\u001b[0m\u001b[0;34m\u001b[0m\u001b[0;34m\u001b[0m\u001b[0m\n\u001b[0m\u001b[1;32m    111\u001b[0m \u001b[0;34m\u001b[0m\u001b[0m\n\u001b[1;32m    112\u001b[0m                 \u001b[0mprefix\u001b[0m \u001b[0;34m=\u001b[0m \u001b[0;34m''\u001b[0m\u001b[0;34m\u001b[0m\u001b[0;34m\u001b[0m\u001b[0m\n",
      "\u001b[0;31mAttributeError\u001b[0m: 'int' object has no attribute 'float'"
     ]
    }
   ],
   "source": [
    "learning_rate = 1e-3\n",
    "epochs=128\n",
    "optimizer = optim.Adam(model.parameters(), lr=learning_rate, betas=(0.9, 0.999))\n",
    "\n",
    "solver = Solver(\n",
    "    model=model,\n",
    "    optimizer=optimizer,\n",
    "    dataloaders=dataloaders,\n",
    "    learning_rate=learning_rate,\n",
    "    epochs=epochs)\n",
    "solver.train()"
   ]
  },
  {
   "cell_type": "code",
   "execution_count": 14,
   "metadata": {},
   "outputs": [
    {
     "data": {
      "text/plain": [
       "DeepAuditoryV2(\n",
       "  (Conv2d_1a_3x3): BasicConv2d(\n",
       "    (conv): Conv2d(1, 32, kernel_size=(3, 3), stride=(1, 1), padding=(1, 1), bias=False)\n",
       "    (bn): BatchNorm2d(32, eps=0.001, momentum=0.1, affine=True, track_running_stats=True)\n",
       "  )\n",
       "  (Conv2d_2a_3x3): BasicConv2d(\n",
       "    (conv): Conv2d(32, 32, kernel_size=(3, 3), stride=(1, 1), padding=(1, 1), bias=False)\n",
       "    (bn): BatchNorm2d(32, eps=0.001, momentum=0.1, affine=True, track_running_stats=True)\n",
       "  )\n",
       "  (maxpool1): MaxPool2d(kernel_size=(2, 1), stride=(2, 1), padding=0, dilation=1, ceil_mode=False)\n",
       "  (Conv2d_3a_3x3): BasicConv2d(\n",
       "    (conv): Conv2d(32, 64, kernel_size=(3, 3), stride=(1, 1), bias=False)\n",
       "    (bn): BatchNorm2d(64, eps=0.001, momentum=0.1, affine=True, track_running_stats=True)\n",
       "  )\n",
       "  (Conv2d_4a_3x3): BasicConv2d(\n",
       "    (conv): Conv2d(64, 64, kernel_size=(3, 3), stride=(1, 1), bias=False)\n",
       "    (bn): BatchNorm2d(64, eps=0.001, momentum=0.1, affine=True, track_running_stats=True)\n",
       "  )\n",
       "  (Conv2d_5a_12x9): FactChroma(\n",
       "    (branch12x9_1): BasicConv2d(\n",
       "      (conv): Conv2d(64, 128, kernel_size=(12, 1), stride=(1, 1), bias=False)\n",
       "      (bn): BatchNorm2d(128, eps=0.001, momentum=0.1, affine=True, track_running_stats=True)\n",
       "    )\n",
       "    (branch12x9_2): BasicConv2d(\n",
       "      (conv): Conv2d(128, 128, kernel_size=(1, 9), stride=(1, 1), bias=False)\n",
       "      (bn): BatchNorm2d(128, eps=0.001, momentum=0.1, affine=True, track_running_stats=True)\n",
       "    )\n",
       "  )\n",
       "  (Conv2d_6a_1x1_linear): Conv2d(128, 25, kernel_size=(1, 1), stride=(1, 1))\n",
       "  (avg_pool): AvgPool2d(kernel_size=(13, 3), stride=(13, 3), padding=0)\n",
       "  (dropout): Dropout(p=0.5, inplace=False)\n",
       ")"
      ]
     },
     "execution_count": 14,
     "metadata": {},
     "output_type": "execute_result"
    }
   ],
   "source": [
    "from sklearn.metrics import confusion_matrix\n",
    "\n",
    "from chord_recognition.utils import one_hot\n",
    "from chord_recognition.ann_utils import convert_annotation_matrix\n",
    "from chord_recognition.evaluate import plot_confusion_matrix\n",
    "from chord_recognition.predict import forward\n",
    "\n",
    "device = torch.device('cuda') if torch.cuda.is_available() else torch.device('cpu')\n",
    "model = deep_auditory_v2(pretrained=True)\n",
    "model.eval()\n",
    "model.cuda()"
   ]
  },
  {
   "cell_type": "code",
   "execution_count": null,
   "metadata": {},
   "outputs": [],
   "source": []
  },
  {
   "cell_type": "code",
   "execution_count": 16,
   "metadata": {},
   "outputs": [],
   "source": [
    "#val_loader = DataLoader(X_val, batch_size=32)\n",
    "val_loader = (i for i,_ in loader_val)\n",
    "y_hat_matrix = forward(model, val_loader, device, 25)"
   ]
  },
  {
   "cell_type": "code",
   "execution_count": 19,
   "metadata": {},
   "outputs": [],
   "source": [
    "y_hat_matrix = y_hat_matrix.cpu().data.numpy()"
   ]
  },
  {
   "cell_type": "code",
   "execution_count": 20,
   "metadata": {},
   "outputs": [
    {
     "name": "stdout",
     "output_type": "stream",
     "text": [
      "[[3119    0    7    2    4   21    1   19    2    5   11    1    1    0\n",
      "     2    0    5    6    0    3    0    4    0    3    2]\n",
      " [   0 1489    1    5    0    0    3    0   15    1    2   10    0    0\n",
      "     0    1    0    2    4    0    9    0    1    0    2]\n",
      " [  18    0 3141    0   10    1    1   11    0   19    3    3    2    0\n",
      "     2    0    8    0    1    0    0    6    2    9    8]\n",
      " [   1    7    0 2081    0    6    1    0   23    0   23    0    0    0\n",
      "     1    0    1    3    0    1    0    0    1    0    4]\n",
      " [   0    1    1    0 2635    0    1    7    0   21    0   16    0    4\n",
      "     1    0    1    0    2    0    1    4    0    6    5]\n",
      " [  26    3    0   10    2 2999    0   12    2    2   24    0    0    0\n",
      "    15    0    2    3    0    1    0    3    2    1   20]\n",
      " [   1    7    0    0    2    0 1127    0    4    1    1    7    0    1\n",
      "     0    5    0    0    1    0    3    0    1    1    0]\n",
      " [  32    0   20    1    4   16    0 2977    5   11    1    1   10    0\n",
      "     5    0    2    0    1    3    0   10    0    0   15]\n",
      " [   1    8    0    8    0    2    6    1 1776    0    9    0    1    1\n",
      "     0    1    0    4    1    3    0    0    3    1    2]\n",
      " [   3    0   20    0   22    1    0    8    1 3363    0    8    0    5\n",
      "     4    0   13    0    4    1    0    3    0    8   12]\n",
      " [  18    2    3   22    0    4    0    3    3    1 2609    1    2    0\n",
      "     2    0    0    3    0    2    0    2    0    0    4]\n",
      " [   0    4    3    1   21    0    5    2    0   11    1 1751    0    4\n",
      "     0    0    2    0    4    0    0    0    1    1    5]\n",
      " [   7    1    0    6    0    0    2    4    3    1    1    0 1430    0\n",
      "     1    0    0   13    0   10    0    2    0    0    1]\n",
      " [   0    0    0    0    4    0    0    0    0    7    0    1    0  785\n",
      "     0    1    0    0    1    0    2    0    0    3    0]\n",
      " [   7    0    4    4    0    9    0   15    0    2    2    0    0    0\n",
      "  1616    0    1    0    0    6    0    1    0    0   10]\n",
      " [   0    2    0    1    0    0    1    0    1    0    0    1    0    0\n",
      "     0  298    0    0    0    0    0    0    1    0    0]\n",
      " [   7    0    9    0    3    6    0    8    0    5    0    0    1    0\n",
      "     1    0 1877    0    4    0    0    9    0    3    3]\n",
      " [   2    2    0    8    0    3    0    1    2    0    7    0    3    0\n",
      "     0    0    0 1068    0    4    0    0    1    0    1]\n",
      " [   0    2    0    0    2    0    0    1    1    0    0    4    0    3\n",
      "     0    0    0    0  753    1    2    0    0    2    0]\n",
      " [   3    0    4    1    0    3    0    3    1    1    3    0    5    0\n",
      "     2    0    0    3    3  858    0    3    4    0    0]\n",
      " [   0    4    0    0    4    0    1    0    0    0    0    0    0    0\n",
      "     0    1    0    3    0    1  545    1    2    0    0]\n",
      " [  17    0    0    0    4    6    0    5    0    3    0    1    0    0\n",
      "     9    0   11    0    1    0    1 1823    0    0    0]\n",
      " [   0    0    0    0    0    1    0    0    5    0    1    1    0    0\n",
      "     0    0    0    1    0    0    0    0  298    0    0]\n",
      " [   0    0    3    0    4    0    4    5    0   14    0    1    0    0\n",
      "     1    0    3    0    4    0    0    4    0  955    1]\n",
      " [  10    4   16   43   12   19    1   13   14    7    9    2    6    0\n",
      "    17    0    5    0    2    1    0    5    1    0 8631]]\n"
     ]
    },
    {
     "data": {
      "image/png": "[encoded data removed]",
      "text/plain": [
       "<Figure size 1008x360 with 2 Axes>"
      ]
     },
     "metadata": {
      "needs_background": "light"
     },
     "output_type": "display_data"
    }
   ],
   "source": [
    "plt.rcParams['figure.figsize'] = (14, 6)\n",
    "plt.rcParams['figure.dpi'] = 80\n",
    "\n",
    "y_matrix = one_hot(y_val, 25)\n",
    "y_true = convert_annotation_matrix(y_matrix)\n",
    "\n",
    "y_pred = convert_annotation_matrix(y_hat_matrix)\n",
    "labels = dataset.chord_labels\n",
    "cm = confusion_matrix(y_true, y_pred, labels=labels)\n",
    "\n",
    "plot_confusion_matrix(cm, labels)"
   ]
  },
  {
   "cell_type": "code",
   "execution_count": null,
   "metadata": {},
   "outputs": [],
   "source": [
    "# Eliminate overfitting:\n",
    "# - Try CNN -> CTC loss https://www.cs.toronto.edu/~graves/icml_2006.pdf\n",
    "# - try CNN for extraction a sequence of features and vanilla RNN to propagate information through this sequence."
   ]
  },
  {
   "cell_type": "code",
   "execution_count": null,
   "metadata": {},
   "outputs": [],
   "source": []
  },
  {
   "cell_type": "code",
   "execution_count": null,
   "metadata": {},
   "outputs": [],
   "source": []
  }
 ],
 "metadata": {
  "kernelspec": {
   "display_name": "Python 3",
   "language": "python",
   "name": "python3"
  },
  "language_info": {
   "codemirror_mode": {
    "name": "ipython",
    "version": 3
   },
   "file_extension": ".py",
   "mimetype": "text/x-python",
   "name": "python",
   "nbconvert_exporter": "python",
   "pygments_lexer": "ipython3",
   "version": "3.8.6"
  }
 },
 "nbformat": 4,
 "nbformat_minor": 4
}
