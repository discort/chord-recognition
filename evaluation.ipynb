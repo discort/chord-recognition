{
 "cells": [
  {
   "cell_type": "code",
   "execution_count": 35,
   "metadata": {},
   "outputs": [],
   "source": [
    "import os\n",
    "\n",
    "import numpy as np\n",
    "import pandas as pd\n",
    "import librosa\n",
    "import librosa.display\n",
    "import matplotlib.pyplot as plt\n",
    "\n",
    "import torch\n",
    "import torch.nn as nn\n",
    "import torch.nn.functional as F\n",
    "from torch.utils.data import DataLoader\n",
    "\n",
    "from dataset import MirexDataset, MirexFameDataset\n",
    "from models.cnn import model\n",
    "from utils import get_chord_labels"
   ]
  },
  {
   "cell_type": "code",
   "execution_count": 5,
   "metadata": {},
   "outputs": [],
   "source": [
    "device = torch.device('cuda') if torch.cuda.is_available() else torch.device('cpu')"
   ]
  },
  {
   "cell_type": "code",
   "execution_count": 7,
   "metadata": {},
   "outputs": [
    {
     "data": {
      "text/plain": [
       "Sequential(\n",
       "  (conv1): Conv2d(1, 32, kernel_size=(3, 3), stride=(1, 1), padding=(1, 1))\n",
       "  (relu1): ReLU()\n",
       "  (bnorm1): BatchNorm2d(32, eps=1e-05, momentum=0.1, affine=True, track_running_stats=True)\n",
       "  (conv2): Conv2d(32, 32, kernel_size=(3, 3), stride=(1, 1), padding=(1, 1))\n",
       "  (relu2): ReLU()\n",
       "  (bnorm2): BatchNorm2d(32, eps=1e-05, momentum=0.1, affine=True, track_running_stats=True)\n",
       "  (conv3): Conv2d(32, 32, kernel_size=(3, 3), stride=(1, 1), padding=(1, 1))\n",
       "  (relu3): ReLU()\n",
       "  (bnorm3): BatchNorm2d(32, eps=1e-05, momentum=0.1, affine=True, track_running_stats=True)\n",
       "  (conv4): Conv2d(32, 32, kernel_size=(3, 3), stride=(1, 1), padding=(1, 1))\n",
       "  (relu4): ReLU()\n",
       "  (bnorm4): BatchNorm2d(32, eps=1e-05, momentum=0.1, affine=True, track_running_stats=True)\n",
       "  (pool1): MaxPool2d(kernel_size=(2, 1), stride=(2, 1), padding=0, dilation=1, ceil_mode=False)\n",
       "  (dropout1): Dropout(p=0.5, inplace=False)\n",
       "  (conv5): Conv2d(32, 64, kernel_size=(3, 3), stride=(1, 1))\n",
       "  (relu5): ReLU()\n",
       "  (bnorm5): BatchNorm2d(64, eps=1e-05, momentum=0.1, affine=True, track_running_stats=True)\n",
       "  (conv6): Conv2d(64, 64, kernel_size=(3, 3), stride=(1, 1))\n",
       "  (relu6): ReLU()\n",
       "  (bnorm6): BatchNorm2d(64, eps=1e-05, momentum=0.1, affine=True, track_running_stats=True)\n",
       "  (pool2): MaxPool2d(kernel_size=(2, 1), stride=(2, 1), padding=0, dilation=1, ceil_mode=False)\n",
       "  (dropout2): Dropout(p=0.5, inplace=False)\n",
       "  (conv7): Conv2d(64, 128, kernel_size=(12, 9), stride=(1, 1))\n",
       "  (relu7): ReLU()\n",
       "  (bnorm7): BatchNorm2d(128, eps=1e-05, momentum=0.1, affine=True, track_running_stats=True)\n",
       "  (dropout3): Dropout(p=0.5, inplace=False)\n",
       "  (conv8): Conv2d(128, 25, kernel_size=(1, 1), stride=(1, 1))\n",
       "  (pool3): AvgPool2d(kernel_size=(13, 3), stride=(13, 3), padding=0)\n",
       ")"
      ]
     },
     "execution_count": 7,
     "metadata": {},
     "output_type": "execute_result"
    }
   ],
   "source": [
    "model.load_state_dict(torch.load('results/best_model.pt', map_location=device))\n",
    "model.eval()"
   ]
  },
  {
   "cell_type": "code",
   "execution_count": 29,
   "metadata": {},
   "outputs": [],
   "source": [
    "chord_dataset = MirexDataset(audio_dir=\"data/robbie_williams/mp3/2000-Sing When You're Winning/\",\n",
    "                             ann_dir=\"data/robbie_williams/chordlabs/2000-Sing When You're Winning/\",\n",
    "                             window_size=8192, hop_length=4096)\n",
    "# chord_dataset = MirexDataset(audio_dir=\"data/queen/mp3/Greatest_Hits_II/\",\n",
    "#                              ann_dir=\"data/queen/chordlabs/Greatest_Hits_II/\",\n",
    "#                              window_size=8192, hop_length=4096)\n",
    "loader_chord = DataLoader(chord_dataset, batch_size=None, num_workers=0)"
   ]
  },
  {
   "cell_type": "code",
   "execution_count": 14,
   "metadata": {},
   "outputs": [],
   "source": [
    "from container import ContextContainer\n",
    "from metrics import compute_eval_measures\n",
    "\n",
    "@torch.no_grad()\n",
    "def estimate_chords(dataloader, model, device, scores_dir='scores'):\n",
    "    model.eval()  # set model to evaluation mode\n",
    "    \n",
    "    if not os.path.exists(scores_dir):\n",
    "        os.makedirs(scores_dir)\n",
    "    \n",
    "    criterion = nn.Softmax()\n",
    "    for sample in dataloader:\n",
    "        sample_name = sample['sample']\n",
    "        chromagram = sample['chromagram']\n",
    "        \n",
    "        container = ContextContainer(chromagram, 7)\n",
    "        result = torch.empty(25, chromagram.shape[1])\n",
    "        for idx, frame in enumerate(container):\n",
    "            frame = frame.view(1, 1, *frame.shape)\n",
    "            \n",
    "            inputs = frame.to(device=device, dtype=torch.float32)\n",
    "            scores = model(inputs)\n",
    "            scores = torch.squeeze(scores)\n",
    "            scores = criterion(scores)\n",
    "\n",
    "            result[:, idx] = scores\n",
    "        \n",
    "        _, preds = torch.max(result, 0)\n",
    "        result = F.one_hot(preds, result.shape[0]).t_()\n",
    "\n",
    "        ann_matrix = sample['ann_matrix'].data.numpy()\n",
    "        result = result.data.numpy()\n",
    "        \n",
    "        P, R, F1, TP, FP, FN = compute_eval_measures(ann_matrix, result)\n",
    "        title = f'Eval: (N=%d, TP=%d, FP=%d, FN=%d, P=%.3f, R=%.3f, F=%.3f) - {sample_name}' % (result.shape[1], TP, FP, FN, P,R,F1)\n",
    "        print(title)\n",
    "        #break"
   ]
  },
  {
   "cell_type": "code",
   "execution_count": 30,
   "metadata": {},
   "outputs": [
    {
     "name": "stdout",
     "output_type": "stream",
     "text": [
      "Eval: (N=3220, TP=145, FP=3075, FN=2914, P=0.045, R=0.047, F=0.046) - 01-Let Love Be Your Energy\n",
      "Eval: (N=2182, TP=421, FP=1761, FN=1362, P=0.193, R=0.236, F=0.212) - 02-Better Man\n",
      "Eval: (N=2784, TP=249, FP=2535, FN=1261, P=0.089, R=0.165, F=0.116) - 03-Rock DJ\n",
      "Eval: (N=2783, TP=664, FP=2119, FN=1877, P=0.239, R=0.261, F=0.249) - 04-Supreme\n",
      "Eval: (N=3087, TP=521, FP=2566, FN=2566, P=0.169, R=0.169, F=0.169) - 05-Kids\n",
      "Eval: (N=2696, TP=713, FP=1983, FN=1207, P=0.264, R=0.371, F=0.309) - 06-If It's Hurting You\n",
      "Eval: (N=2925, TP=658, FP=2267, FN=1809, P=0.225, R=0.267, F=0.244) - 07-Singing For The Lonely\n",
      "Eval: (N=2645, TP=322, FP=2323, FN=1192, P=0.122, R=0.213, F=0.155) - 08-Love Calling Earth\n",
      "Eval: (N=3074, TP=229, FP=2845, FN=2432, P=0.074, R=0.086, F=0.080) - 09-Knutsford City Limits\n",
      "Eval: (N=2343, TP=344, FP=1999, FN=1999, P=0.147, R=0.147, F=0.147) - 10-Forever Texas\n",
      "Eval: (N=3076, TP=441, FP=2635, FN=2605, P=0.143, R=0.145, F=0.144) - 11-By All Means Necessary\n",
      "Eval: (N=2594, TP=521, FP=2073, FN=1651, P=0.201, R=0.240, F=0.219) - 12-The Road To Mandalay\n"
     ]
    }
   ],
   "source": [
    "estimate_chords(loader_chord, model, device)"
   ]
  },
  {
   "cell_type": "code",
   "execution_count": 20,
   "metadata": {},
   "outputs": [],
   "source": [
    "def calculate_chords(model, audio_path, ann_path, window_size=8192, hop_length=4096):\n",
    "    from utils import convert_chord_ann_matrix\n",
    "    audio_waveform, sampling_rate = librosa.core.load(audio_path, sr=None)\n",
    "    chromagram = librosa.feature.chroma_stft(audio_waveform, sr=sampling_rate, norm=None,\n",
    "                                             n_fft=window_size, hop_length=hop_length, tuning=0, n_chroma=105)\n",
    "    criterion = nn.Softmax()\n",
    "    container = ContextContainer(chromagram, 7)\n",
    "    result = torch.empty(25, chromagram.shape[1])\n",
    "    for idx, frame in enumerate(container):\n",
    "        frame = frame.reshape(1, 1, *frame.shape)\n",
    "\n",
    "        inputs = torch.from_numpy(frame)\n",
    "        scores = model(inputs)\n",
    "\n",
    "        scores = torch.squeeze(scores)\n",
    "        scores = criterion(scores)\n",
    "        result[:, idx] = scores\n",
    "\n",
    "    _, preds = torch.max(result, 0)\n",
    "    result = F.one_hot(preds, result.shape[0]).t_()\n",
    "    result = result.data.numpy()\n",
    "    \n",
    "    \n",
    "    chord_labels = get_chord_labels(ext_minor='m', nonchord=True)\n",
    "    N_X = chromagram.shape[1]\n",
    "    Fs_X = sampling_rate / hop_length\n",
    "    ann_matrix, _, _, _ = convert_chord_ann_matrix(\n",
    "            fn_ann=ann_path, chord_labels=chord_labels, Fs=Fs_X, N=N_X, last=False)\n",
    "    return result, ann_matrix"
   ]
  },
  {
   "cell_type": "code",
   "execution_count": 21,
   "metadata": {},
   "outputs": [],
   "source": [
    "def print_chords(chord_matrix):\n",
    "    chord_labels = get_chord_labels(nonchord=True)\n",
    "    fig, ax = plt.subplots(1, 1, figsize=(18, 10))\n",
    "    ax.set_yticks(np.arange(len(chord_labels)))\n",
    "    ax.set_yticklabels(chord_labels)\n",
    "    ax.set_title('Time–chord representation of chord recognition result')\n",
    "    ax.pcolormesh(chord_matrix, cmap='coolwarm', alpha=0.7)"
   ]
  },
  {
   "cell_type": "code",
   "execution_count": 34,
   "metadata": {},
   "outputs": [
    {
     "name": "stdout",
     "output_type": "stream",
     "text": [
      "57.20123481750488\n"
     ]
    }
   ],
   "source": [
    "import time\n",
    "\n",
    "start = time.time()\n",
    "result, ann_matrix = calculate_chords(\n",
    "    model=model,\n",
    "    audio_path=\"data/robbie_williams/mp3/2000-Sing When You're Winning/01-Let Love Be Your Energy.mp3\",\n",
    "    ann_path=\"data/robbie_williams/chordlabs/2000-Sing When You're Winning/01-Let Love Be Your Energy.lab\")\n",
    "print(time.time() - start)"
   ]
  },
  {
   "cell_type": "code",
   "execution_count": 32,
   "metadata": {},
   "outputs": [
    {
     "data": {
      "image/png": "[encoded data removed]",
      "text/plain": [
       "<Figure size 1296x720 with 1 Axes>"
      ]
     },
     "metadata": {
      "needs_background": "light"
     },
     "output_type": "display_data"
    }
   ],
   "source": [
    "print_chords(result[:, :2000])"
   ]
  },
  {
   "cell_type": "code",
   "execution_count": 33,
   "metadata": {},
   "outputs": [
    {
     "data": {
      "image/png": "[encoded data removed]",
      "text/plain": [
       "<Figure size 1296x720 with 1 Axes>"
      ]
     },
     "metadata": {
      "needs_background": "light"
     },
     "output_type": "display_data"
    }
   ],
   "source": [
    "print_chords(ann_matrix[:, :2000])"
   ]
  },
  {
   "cell_type": "code",
   "execution_count": null,
   "metadata": {},
   "outputs": [],
   "source": []
  }
 ],
 "metadata": {
  "kernelspec": {
   "display_name": "Python 3",
   "language": "python",
   "name": "python3"
  },
  "language_info": {
   "codemirror_mode": {
    "name": "ipython",
    "version": 3
   },
   "file_extension": ".py",
   "mimetype": "text/x-python",
   "name": "python",
   "nbconvert_exporter": "python",
   "pygments_lexer": "ipython3",
   "version": "3.7.6"
  }
 },
 "nbformat": 4,
 "nbformat_minor": 4
}
