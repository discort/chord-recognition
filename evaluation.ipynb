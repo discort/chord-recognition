{
 "cells": [
  {
   "cell_type": "code",
   "execution_count": 1,
   "metadata": {},
   "outputs": [],
   "source": [
    "import os\n",
    "import time\n",
    "\n",
    "import numpy as np\n",
    "import pandas as pd\n",
    "import librosa\n",
    "import librosa.display\n",
    "import matplotlib.pyplot as plt\n",
    "\n",
    "import torch\n",
    "import torch.nn as nn\n",
    "import torch.nn.functional as F\n",
    "from torch.utils.data import DataLoader, BatchSampler, SequentialSampler\n",
    "\n",
    "from chord_recognition.container import ContextContainer\n",
    "from chord_recognition.dataset import AudioDataset, MirexFameDataset\n",
    "from chord_recognition.utils import get_chord_labels\n",
    "from models.cnn import model"
   ]
  },
  {
   "cell_type": "code",
   "execution_count": 10,
   "metadata": {},
   "outputs": [],
   "source": [
    "device = torch.device('cuda') if torch.cuda.is_available() else torch.device('cpu')"
   ]
  },
  {
   "cell_type": "code",
   "execution_count": 11,
   "metadata": {},
   "outputs": [
    {
     "data": {
      "text/plain": [
       "Sequential(\n",
       "  (conv1): Conv2d(1, 32, kernel_size=(3, 3), stride=(1, 1), padding=(1, 1))\n",
       "  (relu1): ReLU()\n",
       "  (bnorm1): BatchNorm2d(32, eps=1e-05, momentum=0.1, affine=True, track_running_stats=True)\n",
       "  (conv2): Conv2d(32, 32, kernel_size=(3, 3), stride=(1, 1), padding=(1, 1))\n",
       "  (relu2): ReLU()\n",
       "  (bnorm2): BatchNorm2d(32, eps=1e-05, momentum=0.1, affine=True, track_running_stats=True)\n",
       "  (conv3): Conv2d(32, 32, kernel_size=(3, 3), stride=(1, 1), padding=(1, 1))\n",
       "  (relu3): ReLU()\n",
       "  (bnorm3): BatchNorm2d(32, eps=1e-05, momentum=0.1, affine=True, track_running_stats=True)\n",
       "  (conv4): Conv2d(32, 32, kernel_size=(3, 3), stride=(1, 1), padding=(1, 1))\n",
       "  (relu4): ReLU()\n",
       "  (bnorm4): BatchNorm2d(32, eps=1e-05, momentum=0.1, affine=True, track_running_stats=True)\n",
       "  (pool1): MaxPool2d(kernel_size=(2, 1), stride=(2, 1), padding=0, dilation=1, ceil_mode=False)\n",
       "  (dropout1): Dropout(p=0.5, inplace=False)\n",
       "  (conv5): Conv2d(32, 64, kernel_size=(3, 3), stride=(1, 1))\n",
       "  (relu5): ReLU()\n",
       "  (bnorm5): BatchNorm2d(64, eps=1e-05, momentum=0.1, affine=True, track_running_stats=True)\n",
       "  (conv6): Conv2d(64, 64, kernel_size=(3, 3), stride=(1, 1))\n",
       "  (relu6): ReLU()\n",
       "  (bnorm6): BatchNorm2d(64, eps=1e-05, momentum=0.1, affine=True, track_running_stats=True)\n",
       "  (pool2): MaxPool2d(kernel_size=(2, 1), stride=(2, 1), padding=0, dilation=1, ceil_mode=False)\n",
       "  (dropout2): Dropout(p=0.5, inplace=False)\n",
       "  (conv7): Conv2d(64, 128, kernel_size=(12, 9), stride=(1, 1))\n",
       "  (relu7): ReLU()\n",
       "  (bnorm7): BatchNorm2d(128, eps=1e-05, momentum=0.1, affine=True, track_running_stats=True)\n",
       "  (dropout3): Dropout(p=0.5, inplace=False)\n",
       "  (conv8): Conv2d(128, 25, kernel_size=(1, 1), stride=(1, 1))\n",
       "  (pool3): AvgPool2d(kernel_size=(13, 3), stride=(13, 3), padding=0)\n",
       ")"
      ]
     },
     "execution_count": 11,
     "metadata": {},
     "output_type": "execute_result"
    }
   ],
   "source": [
    "model.load_state_dict(torch.load('results/etd_best_model.pt', map_location=device))\n",
    "model.eval()"
   ]
  },
  {
   "cell_type": "code",
   "execution_count": 12,
   "metadata": {},
   "outputs": [],
   "source": [
    "# chord_dataset = AudioDataset(audio_dir=\"data/robbie_williams/mp3/2000-Sing When You're Winning/\",\n",
    "#                              ann_dir=\"data/robbie_williams/chordlabs/2000-Sing When You're Winning/\",\n",
    "#                              window_size=8192, hop_length=4096)\n",
    "chord_dataset = AudioDataset(audio_dir=\"data/queen/mp3/Greatest_Hits_II/\",\n",
    "                             ann_dir=\"data/queen/chordlabs/Greatest_Hits_II/\",\n",
    "                             window_size=8192, hop_length=4096)\n",
    "# chord_dataset = AudioDataset(audio_dir=\"data/beatles/mp3/Greatest_Hits_II/\",\n",
    "#                              ann_dir=\"data/beatles/chordlabs/Greatest_Hits_II/\",\n",
    "#                              window_size=8192, hop_length=4096)\n",
    "loader_chord = DataLoader(chord_dataset, batch_size=None, num_workers=0)\n",
    "sampler = SequentialSampler(chord_dataset)"
   ]
  },
  {
   "cell_type": "code",
   "execution_count": 44,
   "metadata": {},
   "outputs": [],
   "source": [
    "@torch.no_grad()\n",
    "def compute_chromagram(spectrogram, model, device, batch_size=32, context_size=7, num_classes=25):\n",
    "    criterion = nn.Softmax()\n",
    "    container = ContextContainer(spectrogram, context_size)\n",
    "    result = []\n",
    "    \n",
    "    frames = np.asarray([f.reshape(1, *f.shape) for f in container])\n",
    "    sampler = SequentialSampler(frames)\n",
    "    sampler = BatchSampler(sampler, batch_size=batch_size, drop_last=False)\n",
    "    for idx in sampler:\n",
    "        inputs = torch.from_numpy(frames[idx]).to(device=device, dtype=torch.float32)\n",
    "        scores = model(inputs)\n",
    "        scores = criterion(scores)\n",
    "        scores = scores.squeeze(3).squeeze(2)\n",
    "        result.append(scores)\n",
    "\n",
    "    result = torch.cat(result)\n",
    "    preds = torch.argmax(result, 1)\n",
    "    result = F.one_hot(preds, num_classes).t_()\n",
    "    return result.data.numpy()"
   ]
  },
  {
   "cell_type": "code",
   "execution_count": 39,
   "metadata": {},
   "outputs": [],
   "source": [
    "from metrics import compute_eval_measures\n",
    "\n",
    "\n",
    "def estimate_chords(dataloader, model, device, batch_size=32,\n",
    "                    drop_last=False, scores_dir='scores'):\n",
    "    model.eval()  # set model to evaluation mode\n",
    "    \n",
    "    for idx in dataloader:\n",
    "        sample = dataloader.data_source[idx]\n",
    "        sample_name = sample['sample']\n",
    "        chromagram = sample['chromagram']\n",
    "        \n",
    "        result = compute_chromagram(chromagram, model, device, batch_size=batch_size)\n",
    "        ann_matrix = sample['ann_matrix']\n",
    "        \n",
    "        P, R, F1, TP, FP, FN = compute_eval_measures(ann_matrix, result)\n",
    "        title = f'Eval: (N=%d, TP=%d, FP=%d, FN=%d, P=%.3f, R=%.3f, F=%.3f) - {sample_name}' % (result.shape[1], TP, FP, FN, P,R,F1)\n",
    "        print(title)"
   ]
  },
  {
   "cell_type": "code",
   "execution_count": 38,
   "metadata": {
    "scrolled": true
   },
   "outputs": [
    {
     "name": "stdout",
     "output_type": "stream",
     "text": [
      "Eval: (N=2822, TP=2188, FP=634, FN=58, P=0.775, R=0.974, F=0.863) - 01 A Kind Of Magic\n",
      "Eval: (N=2600, TP=1814, FP=786, FN=66, P=0.698, R=0.965, F=0.810) - 04 I Want It All\n",
      "Eval: (N=2786, TP=2613, FP=173, FN=78, P=0.938, R=0.971, F=0.954) - 05 I Want To Break Free\n",
      "Eval: (N=3198, TP=1477, FP=1721, FN=15, P=0.462, R=0.990, F=0.630) - 09 Who Wants To Live Forever\n",
      "Eval: (N=2370, TP=1388, FP=982, FN=26, P=0.586, R=0.982, F=0.734) - 14 Hammer To Fall\n",
      "Eval: (N=2681, TP=1649, FP=1032, FN=49, P=0.615, R=0.971, F=0.753) - 15 Friends Will Be Friends\n"
     ]
    }
   ],
   "source": [
    "estimate_chords(sampler, model, device, batch_size=8)"
   ]
  },
  {
   "cell_type": "code",
   "execution_count": null,
   "metadata": {},
   "outputs": [],
   "source": [
    "def calculate_chords(model, audio_path, ann_path, window_size=8192, hop_length=4096):\n",
    "    from utils import convert_chord_ann_matrix\n",
    "    audio_waveform, sampling_rate = librosa.core.load(audio_path, sr=None)\n",
    "    chromagram = librosa.feature.chroma_stft(audio_waveform, sr=sampling_rate, norm=None,\n",
    "                                             n_fft=window_size, hop_length=hop_length, tuning=0, n_chroma=105)\n",
    "    criterion = nn.Softmax()\n",
    "    container = ContextContainer(chromagram, 7)\n",
    "    result = torch.empty(25, chromagram.shape[1])\n",
    "    for idx, frame in enumerate(container):\n",
    "        frame = frame.reshape(1, 1, *frame.shape)\n",
    "\n",
    "        inputs = torch.from_numpy(frame)\n",
    "        scores = model(inputs)\n",
    "\n",
    "        scores = torch.squeeze(scores)\n",
    "        scores = criterion(scores)\n",
    "        result[:, idx] = scores\n",
    "\n",
    "    _, preds = torch.max(result, 0)\n",
    "    result = F.one_hot(preds, result.shape[0]).t_()\n",
    "    result = result.data.numpy()\n",
    "    \n",
    "    \n",
    "    chord_labels = get_chord_labels(ext_minor='m', nonchord=True)\n",
    "    N_X = chromagram.shape[1]\n",
    "    Fs_X = sampling_rate / hop_length\n",
    "    ann_matrix, _, _, _ = convert_chord_ann_matrix(\n",
    "            fn_ann=ann_path, chord_labels=chord_labels, Fs=Fs_X, N=N_X, last=False)\n",
    "    return result, ann_matrix"
   ]
  },
  {
   "cell_type": "code",
   "execution_count": null,
   "metadata": {},
   "outputs": [],
   "source": [
    "def print_chords(chord_matrix):\n",
    "    chord_labels = get_chord_labels(nonchord=True)\n",
    "    fig, ax = plt.subplots(1, 1, figsize=(18, 10))\n",
    "    ax.set_yticks(np.arange(len(chord_labels)))\n",
    "    ax.set_yticklabels(chord_labels)\n",
    "    ax.set_title('Time–chord representation of chord recognition result')\n",
    "    ax.pcolormesh(chord_matrix, cmap='coolwarm', alpha=0.7)"
   ]
  },
  {
   "cell_type": "code",
   "execution_count": null,
   "metadata": {},
   "outputs": [],
   "source": []
  },
  {
   "cell_type": "code",
   "execution_count": 40,
   "metadata": {},
   "outputs": [
    {
     "data": {
      "image/png": "[encoded data removed]",
      "text/plain": [
       "<Figure size 864x432 with 2 Axes>"
      ]
     },
     "metadata": {
      "needs_background": "light"
     },
     "output_type": "display_data"
    }
   ],
   "source": [
    "from plot import plot_matrix, plot_segments, plot_signal\n",
    "\n",
    "sample = chord_dataset[0]  # just a random sample\n",
    "sample_name = sample['sample']\n",
    "Fs = sample['Fs']\n",
    "X = sample['audio_waveform']\n",
    "\n",
    "H = chord_dataset.hop_length\n",
    "ann_seg_sec = sample['ann_seg_sec']\n",
    "x_dur = X.shape[0] / Fs\n",
    "\n",
    "fig, ax = plt.subplots(2, 1, figsize=(12, 6))\n",
    "\n",
    "plot_signal(x=X, Fs=Fs, ax=ax[0], title=f\"Waveform of '{sample_name}' audio signal\")\n",
    "plot_segments(ann_seg_sec, ax=ax[1], time_label='Time (seconds)', time_max=x_dur)\n",
    "plt.tight_layout()"
   ]
  },
  {
   "cell_type": "code",
   "execution_count": 41,
   "metadata": {},
   "outputs": [],
   "source": [
    "chromagram = sample['chromagram']\n",
    "chromagram = compute_chromagram(chromagram, model, device, batch_size=8)"
   ]
  },
  {
   "cell_type": "code",
   "execution_count": 46,
   "metadata": {},
   "outputs": [
    {
     "data": {
      "text/plain": [
       "(25, 2822)"
      ]
     },
     "execution_count": 46,
     "metadata": {},
     "output_type": "execute_result"
    }
   ],
   "source": [
    "chromagram.shape"
   ]
  },
  {
   "cell_type": "code",
   "execution_count": null,
   "metadata": {},
   "outputs": [],
   "source": []
  },
  {
   "cell_type": "code",
   "execution_count": null,
   "metadata": {},
   "outputs": [],
   "source": []
  },
  {
   "cell_type": "code",
   "execution_count": null,
   "metadata": {},
   "outputs": [],
   "source": []
  }
 ],
 "metadata": {
  "kernelspec": {
   "display_name": "Python 3",
   "language": "python",
   "name": "python3"
  },
  "language_info": {
   "codemirror_mode": {
    "name": "ipython",
    "version": 3
   },
   "file_extension": ".py",
   "mimetype": "text/x-python",
   "name": "python",
   "nbconvert_exporter": "python",
   "pygments_lexer": "ipython3",
   "version": "3.8.6"
  }
 },
 "nbformat": 4,
 "nbformat_minor": 4
}
