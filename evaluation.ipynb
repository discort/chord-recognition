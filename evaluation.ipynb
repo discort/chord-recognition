{
 "cells": [
  {
   "cell_type": "code",
   "execution_count": null,
   "metadata": {},
   "outputs": [],
   "source": [
    "import os\n",
    "import time\n",
    "\n",
    "import numpy as np\n",
    "import pandas as pd\n",
    "import librosa\n",
    "import librosa.display\n",
    "import matplotlib.pyplot as plt\n",
    "\n",
    "import torch\n",
    "import torch.nn as nn\n",
    "from torch.utils.data import DataLoader, SequentialSampler, ConcatDataset\n",
    "\n",
    "from chord_recognition.dataset import AudioDataset\n",
    "from chord_recognition.metrics import compute_eval_measures\n",
    "from chord_recognition.cnn import model\n",
    "from chord_recognition.predict import predict_annotations, model, device"
   ]
  },
  {
   "cell_type": "code",
   "execution_count": null,
   "metadata": {},
   "outputs": [],
   "source": [
    "# chord_dataset = AudioDataset(audio_dir=\"data/robbie_williams/mp3/\",\n",
    "#                              ann_dir=\"data/robbie_williams/chordlabs/\",\n",
    "#                             window_size=8192, hop_length=4096)\n",
    "chord_dataset = AudioDataset(audio_dir=\"data/queen/mp3/\",\n",
    "                             ann_dir=\"data/queen/chordlabs/\",\n",
    "                             window_size=8192, hop_length=4096)\n",
    "queen = AudioDataset(audio_dir=\"data/beatles/mp3s-32k/\",\n",
    "                     ann_dir=\"data/beatles/chordlabs/\",\n",
    "                     window_size=8192, hop_length=4096)\n",
    "chord_dataset = ConcatDataset([chord_dataset, queen])\n",
    "loader_chord = DataLoader(chord_dataset, batch_size=None, num_workers=0)\n",
    "sampler = SequentialSampler(chord_dataset)"
   ]
  },
  {
   "cell_type": "code",
   "execution_count": null,
   "metadata": {},
   "outputs": [],
   "source": [
    "def estimate_chords(dataloader, model, device, batch_size=32,\n",
    "                    drop_last=False):\n",
    "    model.eval()  # set model to evaluation mode\n",
    "    total_R = total_P = total_F = 0.0\n",
    "    count = 0\n",
    "    \n",
    "    for idx in dataloader:\n",
    "        sample = dataloader.data_source[idx]\n",
    "        sample_name = sample['sample']\n",
    "        chromagram = sample['chromagram']\n",
    "        \n",
    "        result = predict_annotations(chromagram, model, device, batch_size=batch_size)\n",
    "        ann_matrix = sample['ann_matrix']\n",
    "        count += 1\n",
    "        \n",
    "        P, R, F1, TP, FP, FN = compute_eval_measures(ann_matrix, result)\n",
    "        total_R += R\n",
    "        total_P += P\n",
    "        total_F += F1\n",
    "        title = f'Eval: (N=%d, TP=%d, FP=%d, FN=%d, P=%.3f, R=%.3f, F=%.3f) - {sample_name}' % (result.shape[1], TP, FP, FN, P,R,F1)\n",
    "        print(title)\n",
    "    total_R /= count\n",
    "    total_P /= count\n",
    "    total_F /= count\n",
    "    print(f'Total R: {total_R}')\n",
    "    print(f'Total P: {total_P}')\n",
    "    print(f'Total F: {total_F}')"
   ]
  },
  {
   "cell_type": "code",
   "execution_count": null,
   "metadata": {},
   "outputs": [],
   "source": []
  },
  {
   "cell_type": "code",
   "execution_count": null,
   "metadata": {
    "scrolled": false
   },
   "outputs": [],
   "source": [
    "estimate_chords(sampler, model, device, batch_size=8)"
   ]
  },
  {
   "cell_type": "code",
   "execution_count": null,
   "metadata": {},
   "outputs": [],
   "source": []
  },
  {
   "cell_type": "code",
   "execution_count": null,
   "metadata": {},
   "outputs": [],
   "source": []
  },
  {
   "cell_type": "code",
   "execution_count": null,
   "metadata": {},
   "outputs": [],
   "source": []
  },
  {
   "cell_type": "code",
   "execution_count": null,
   "metadata": {},
   "outputs": [],
   "source": []
  },
  {
   "cell_type": "code",
   "execution_count": null,
   "metadata": {},
   "outputs": [],
   "source": []
  },
  {
   "cell_type": "code",
   "execution_count": null,
   "metadata": {},
   "outputs": [],
   "source": []
  }
 ],
 "metadata": {
  "kernelspec": {
   "display_name": "Python 3",
   "language": "python",
   "name": "python3"
  },
  "language_info": {
   "codemirror_mode": {
    "name": "ipython",
    "version": 3
   },
   "file_extension": ".py",
   "mimetype": "text/x-python",
   "name": "python",
   "nbconvert_exporter": "python",
   "pygments_lexer": "ipython3",
   "version": "3.8.6"
  }
 },
 "nbformat": 4,
 "nbformat_minor": 4
}
