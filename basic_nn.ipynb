{
 "cells": [
  {
   "cell_type": "code",
   "execution_count": 2,
   "metadata": {},
   "outputs": [],
   "source": [
    "from copy import deepcopy, copy\n",
    "import os\n",
    "import pathlib\n",
    "from random import shuffle\n",
    "\n",
    "import numpy as np\n",
    "import pandas as pd\n",
    "import librosa\n",
    "import librosa.display\n",
    "import matplotlib.pyplot as plt\n",
    "\n",
    "import torch\n",
    "import torch.nn as nn\n",
    "import torch.nn.functional as F\n",
    "import torch.optim as optim\n",
    "from torch.utils.data import DataLoader, Dataset, ChainDataset, ConcatDataset\n",
    "from livelossplot import PlotLosses\n",
    "\n",
    "from augmentations import SemitoneShift\n",
    "from dataset import MirexDataset, MirexFameDataset\n",
    "from models.cnn import model\n",
    "\n",
    "%matplotlib inline\n",
    "plt.rcParams['figure.figsize'] = (14, 5)"
   ]
  },
  {
   "cell_type": "code",
   "execution_count": null,
   "metadata": {},
   "outputs": [],
   "source": []
  },
  {
   "cell_type": "code",
   "execution_count": 3,
   "metadata": {},
   "outputs": [],
   "source": [
    "beatles_dataset = MirexFameDataset(audio_dir='data/beatles/mp3s-32k/',\n",
    "                                   ann_dir='data/beatles/chordlabs/',\n",
    "                                   window_size=8192, hop_length=4096, context_size=7)\n",
    "queen_dataset = MirexFameDataset(audio_dir='data/queen/mp3/',\n",
    "                                 ann_dir='data/queen/chordlabs/',\n",
    "                                 window_size=8192, hop_length=4096, context_size=7)\n",
    "dataset = ConcatDataset([beatles_dataset, queen_dataset])\n",
    "train_size = int(0.8 * len(dataset))\n",
    "test_size = len(dataset) - train_size\n",
    "train_dataset, test_dataset = torch.utils.data.random_split(dataset, [train_size, test_size])\n",
    "\n",
    "augmented = SemitoneShift(train_dataset, p=1.0, max_shift=4, bins_per_semitone=2)\n",
    "dataset = ConcatDataset([train_dataset, augmented])\n",
    "loader_train = DataLoader(dataset, shuffle=True, num_workers=0, batch_size=32)\n",
    "loader_val = DataLoader(test_dataset, shuffle=True, num_workers=0, batch_size=32)\n",
    "\n",
    "dataloaders = {\n",
    "    \"train\": loader_train,\n",
    "    \"val\": loader_val\n",
    "}"
   ]
  },
  {
   "cell_type": "code",
   "execution_count": 4,
   "metadata": {},
   "outputs": [],
   "source": [
    "def save_checkpoint(state_dict, is_best, filename='etd_best_model.pt'):\n",
    "    if is_best:\n",
    "        torch.save(state_dict, f'results/{filename}')"
   ]
  },
  {
   "cell_type": "code",
   "execution_count": 5,
   "metadata": {},
   "outputs": [],
   "source": [
    "def train_model(model, optimizer, dataloaders, device, epochs=1):\n",
    "    liveloss = PlotLosses()\n",
    "    model = model.to(device=device)\n",
    "    \n",
    "    best_acc = 0\n",
    "    for e in range(epochs):\n",
    "        logs = {}\n",
    "        for phase in ['train', 'val']:\n",
    "            if phase == 'train':\n",
    "                model.train()  # put model to training mode\n",
    "            else:\n",
    "                model.eval()\n",
    "                \n",
    "            running_loss = 0.0\n",
    "            running_corrects = 0\n",
    "        \n",
    "            for inputs, labels in dataloaders[phase]:\n",
    "                inputs = inputs.to(device=device, dtype=torch.float32)\n",
    "                labels = labels.to(device=device, dtype=torch.long)\n",
    "                labels = torch.argmax(labels, 1)\n",
    "                if phase == 'train':\n",
    "                    # Zero out all of the gradients for the variables which the optimizer\n",
    "                    # will update.\n",
    "                    optimizer.zero_grad()\n",
    "            \n",
    "                scores = model(inputs)\n",
    "                scores = scores.squeeze(3).squeeze(2)                \n",
    "                loss = F.cross_entropy(scores, labels)\n",
    "                \n",
    "                _, preds = torch.max(scores, 1)\n",
    "                running_corrects += torch.sum(preds == labels)\n",
    "\n",
    "        \n",
    "                if phase == 'train':        \n",
    "                    # This is the backwards pass: compute the gradient of the loss with\n",
    "                    # respect to each  parameter of the model.\n",
    "                    loss.backward()\n",
    "        \n",
    "                    # Actually update the parameters of the model using the gradients\n",
    "                    # computed by the backwards pass.\n",
    "                    optimizer.step()\n",
    "            \n",
    "                running_loss += loss.detach() * inputs.size(0)\n",
    "        \n",
    "            epoch_loss = running_loss / len(dataloaders[phase].dataset)\n",
    "            epoch_acc = running_corrects.float() / len(dataloaders[phase].dataset)\n",
    "            prefix = ''\n",
    "            if phase == 'val':\n",
    "                prefix = 'val_'\n",
    "                is_best = epoch_acc > best_acc\n",
    "                best_acc = max(epoch_acc, best_acc)\n",
    "                save_checkpoint(model.state_dict(), is_best)\n",
    "            \n",
    "            logs[prefix + ' log loss'] = epoch_loss.item()\n",
    "            logs[prefix + 'accuracy'] = epoch_acc.item()\n",
    "        \n",
    "        liveloss.update(logs)\n",
    "        liveloss.send()"
   ]
  },
  {
   "cell_type": "code",
   "execution_count": null,
   "metadata": {},
   "outputs": [],
   "source": []
  },
  {
   "cell_type": "code",
   "execution_count": 6,
   "metadata": {},
   "outputs": [],
   "source": [
    "device = torch.device('cuda') if torch.cuda.is_available() else torch.device('cpu')"
   ]
  },
  {
   "cell_type": "code",
   "execution_count": 7,
   "metadata": {
    "scrolled": false
   },
   "outputs": [
    {
     "data": {
      "image/png": "[encoded data removed]",
      "text/plain": [
       "<Figure size 864x576 with 2 Axes>"
      ]
     },
     "metadata": {
      "needs_background": "light"
     },
     "output_type": "display_data"
    },
    {
     "name": "stdout",
     "output_type": "stream",
     "text": [
      " log loss\n",
      "\ttraining         \t (min:    1.945, max:    2.437, cur:    1.945)\n",
      "\tvalidation       \t (min:    1.086, max:    1.579, cur:    1.086)\n",
      "accuracy\n",
      "\ttraining         \t (min:    0.323, max:    0.451, cur:    0.451)\n",
      "\tvalidation       \t (min:    0.627, max:    0.774, cur:    0.774)\n"
     ]
    }
   ],
   "source": [
    "learning_rate = 1e-3\n",
    "optimizer = optim.Adam(model.parameters(), lr=learning_rate, betas=(0.9, 0.999), weight_decay=1e-7)\n",
    "\n",
    "train_model(model, optimizer, dataloaders, device, 10)"
   ]
  },
  {
   "cell_type": "code",
   "execution_count": null,
   "metadata": {},
   "outputs": [],
   "source": []
  },
  {
   "cell_type": "code",
   "execution_count": null,
   "metadata": {},
   "outputs": [],
   "source": [
    "# Eliminate overfitting:\n",
    "# - shifts the spectrogram up or down in discrete semitone steps by a maximum of 4 semitones\n",
    "# This manipulation does not preserve the label, which we thus adjust accordingly\n",
    "# -  The second operation emulates a slight detuning by shifting the spectrogram\n",
    "# by fractions of up to 0.4 of a semitone\n",
    "# - Try smaller sets of features\n",
    "# - Try increasing lambda\n",
    "# Check mir_eval in chordrec\n",
    "# Tool to print inference result of the model in time/chord form"
   ]
  },
  {
   "cell_type": "code",
   "execution_count": null,
   "metadata": {},
   "outputs": [],
   "source": []
  }
 ],
 "metadata": {
  "kernelspec": {
   "display_name": "Python 3",
   "language": "python",
   "name": "python3"
  },
  "language_info": {
   "codemirror_mode": {
    "name": "ipython",
    "version": 3
   },
   "file_extension": ".py",
   "mimetype": "text/x-python",
   "name": "python",
   "nbconvert_exporter": "python",
   "pygments_lexer": "ipython3",
   "version": "3.6.9"
  }
 },
 "nbformat": 4,
 "nbformat_minor": 4
}
