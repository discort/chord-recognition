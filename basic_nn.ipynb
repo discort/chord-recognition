{
 "cells": [
  {
   "cell_type": "code",
   "execution_count": 1,
   "metadata": {},
   "outputs": [],
   "source": [
    "from copy import deepcopy, copy\n",
    "import os\n",
    "import pathlib\n",
    "from random import shuffle\n",
    "\n",
    "import numpy as np\n",
    "import pandas as pd\n",
    "import librosa\n",
    "import librosa.display\n",
    "import matplotlib.pyplot as plt\n",
    "\n",
    "import torch\n",
    "import torch.nn as nn\n",
    "import torch.nn.functional as F\n",
    "import torch.optim as optim\n",
    "from torch.utils.data import DataLoader, Dataset, ChainDataset\n",
    "from livelossplot import PlotLosses\n",
    "\n",
    "%matplotlib inline\n",
    "plt.rcParams['figure.figsize'] = (14, 5)"
   ]
  },
  {
   "cell_type": "code",
   "execution_count": null,
   "metadata": {},
   "outputs": [],
   "source": []
  },
  {
   "cell_type": "code",
   "execution_count": null,
   "metadata": {},
   "outputs": [],
   "source": []
  },
  {
   "cell_type": "code",
   "execution_count": 5,
   "metadata": {},
   "outputs": [],
   "source": [
    "class MirexNet(nn.Module):\n",
    "    def __init__(self):\n",
    "        super(MirexNet, self).__init__()\n",
    "        self.conv1 = nn.Conv2d(1, 32, 3, padding=1)\n",
    "        self.conv2 = nn.Conv2d(32, 32, 3, padding=1)\n",
    "        self.conv3 = nn.Conv2d(32, 32, 3, padding=1)\n",
    "        self.conv4 = nn.Conv2d(32, 32, 3, padding=1)\n",
    "        self.pool = nn.MaxPool2d(kernel_size=(2, 1))\n",
    "        self.conv5 = torch.nn.Conv2d(32, 64, 3)\n",
    "        self.conv6 = torch.nn.Conv2d(64, 64, 3)\n",
    "        self.conv7 = torch.nn.Conv2d(64, 128, kernel_size=(12, 9))\n",
    "        self.conv8 = torch.nn.Conv2d(128, 25, 1)\n",
    "        self.dropout = nn.Dropout(0.5)\n",
    "        self.avg_pool = nn.AvgPool2d(kernel_size=(13, 3))\n",
    "\n",
    "    def forward(self, x):\n",
    "        x = F.relu(self.conv1(x))\n",
    "        x = F.relu(self.conv2(x))\n",
    "        x = F.relu(self.conv3(x))\n",
    "        x = F.relu(self.conv4(x))\n",
    "        x = self.pool(x)\n",
    "        x = self.dropout(x)\n",
    "        x = F.relu(self.conv5(x))\n",
    "        x = F.relu(self.conv6(x))\n",
    "        x = self.pool(x)\n",
    "        x = self.dropout(x)\n",
    "        x = F.relu(self.conv7(x))\n",
    "        x = self.dropout(x)\n",
    "        x = self.conv8(x)\n",
    "        x = self.avg_pool(x)\n",
    "        return x"
   ]
  },
  {
   "cell_type": "code",
   "execution_count": null,
   "metadata": {},
   "outputs": [],
   "source": []
  },
  {
   "cell_type": "code",
   "execution_count": null,
   "metadata": {},
   "outputs": [],
   "source": []
  },
  {
   "cell_type": "code",
   "execution_count": 2,
   "metadata": {},
   "outputs": [],
   "source": [
    "def split_iterable_dataset(dataset, train_size=0.8):\n",
    "    ann_labels = copy(dataset.ann_list)\n",
    "    shuffle(ann_labels)\n",
    "    train_size = int(0.8 * len(ann_labels))\n",
    "    #test_size = len(ann_labels) - train_size\n",
    "    train_dataset = deepcopy(dataset)\n",
    "    train_dataset.ann_list = ann_labels[:train_size]\n",
    "    \n",
    "    test_dataset = deepcopy(dataset)\n",
    "    test_dataset.ann_list = ann_labels[train_size:]\n",
    "    return train_dataset, test_dataset"
   ]
  },
  {
   "cell_type": "code",
   "execution_count": 3,
   "metadata": {},
   "outputs": [],
   "source": [
    "from dataset import MirexDataset, FrameIterableDataset, MirexChainDataset\n",
    "\n",
    "\n",
    "beatles_dataset = FrameIterableDataset(audio_dir='data/beatles/mp3s-32k/',\n",
    "                                       ann_dir='data/beatles/chordlabs/',\n",
    "                                       window_size=8192, hop_length=4096)\n",
    "queen_dataset = FrameIterableDataset(audio_dir='data/queen/mp3/',\n",
    "                                     ann_dir='data/queen/chordlabs/',\n",
    "                                     window_size=8192, hop_length=4096)\n",
    "dataset = MirexChainDataset([beatles_dataset, queen_dataset])\n",
    "# train_size = int(0.8 * len(dataset))\n",
    "# test_size = len(dataset) - train_size\n",
    "# train_dataset, test_dataset = torch.utils.data.random_split(dataset, [train_size, test_size])\n",
    "\n",
    "#loader_train = DataLoader(train_dataset, shuffle=True, batch_size=None, num_workers=0)\n",
    "#loader_val = DataLoader(test_dataset, shuffle=True, batch_size=None, num_workers=0)\n",
    "\n",
    "train_dataset, test_dataset = split_iterable_dataset(dataset)\n",
    "loader_train = DataLoader(train_dataset, num_workers=0, batch_size=32)\n",
    "loader_val = DataLoader(test_dataset, num_workers=0, batch_size=32)\n",
    "\n",
    "dataloaders = {\n",
    "    \"train\": loader_train,\n",
    "    \"val\": loader_val\n",
    "}"
   ]
  },
  {
   "cell_type": "code",
   "execution_count": null,
   "metadata": {},
   "outputs": [],
   "source": []
  },
  {
   "cell_type": "code",
   "execution_count": 5,
   "metadata": {},
   "outputs": [],
   "source": [
    "def train_model(model, optimizer, dataloaders, device, epochs=1):\n",
    "    liveloss = PlotLosses()\n",
    "    model = model.to(device=device)\n",
    "    \n",
    "    for e in range(epochs):\n",
    "        logs = {}\n",
    "        for phase in ['train', 'val']:\n",
    "            if phase == 'train':\n",
    "                model.train()  # put model to training mode\n",
    "            else:\n",
    "                model.eval()\n",
    "                \n",
    "            running_loss = 0.0\n",
    "            dataset_len = 0\n",
    "        \n",
    "            for inputs, labels in dataloaders[phase]:\n",
    "                inputs = inputs.to(device=device, dtype=torch.float32)\n",
    "                labels = labels.to(device=device, dtype=torch.float32)\n",
    "            \n",
    "                scores = model(inputs)\n",
    "                scores = scores.squeeze(3).squeeze(2)\n",
    "            \n",
    "                loss = F.cross_entropy(scores, torch.max(labels, 1)[1])\n",
    "        \n",
    "                if phase == 'train':\n",
    "                    # Zero out all of the gradients for the variables which the optimizer\n",
    "                    # will update.\n",
    "                    optimizer.zero_grad()\n",
    "        \n",
    "                    # This is the backwards pass: compute the gradient of the loss with\n",
    "                    # respect to each  parameter of the model.\n",
    "                    loss.backward()\n",
    "        \n",
    "                    # Actually update the parameters of the model using the gradients\n",
    "                    # computed by the backwards pass.\n",
    "                    optimizer.step()\n",
    "            \n",
    "                running_loss += loss.detach() * inputs.size(0)\n",
    "                dataset_len += inputs.size(0)\n",
    "        \n",
    "            epoch_loss = running_loss / dataset_len\n",
    "            prefix = ''\n",
    "            if phase == 'val':\n",
    "                prefix = 'val_'\n",
    "            \n",
    "            logs[prefix + ' log loss'] = epoch_loss.item()\n",
    "        \n",
    "        liveloss.update(logs)\n",
    "        liveloss.send()"
   ]
  },
  {
   "cell_type": "code",
   "execution_count": 6,
   "metadata": {},
   "outputs": [],
   "source": [
    "from collections import OrderedDict\n",
    "\n",
    "model = nn.Sequential(OrderedDict([\n",
    "    ('conv1', nn.Conv2d(1, 32, 3, padding=1)),\n",
    "    ('relu1', nn.ReLU()),\n",
    "    ('bnorm1', nn.BatchNorm2d(32)),\n",
    "    ('conv2', nn.Conv2d(32, 32, 3, padding=1)),\n",
    "    ('relu2', nn.ReLU()),\n",
    "    ('bnorm2', nn.BatchNorm2d(32)),\n",
    "    ('conv3', nn.Conv2d(32, 32, 3, padding=1)),\n",
    "    ('relu3', nn.ReLU()),\n",
    "    ('bnorm3', nn.BatchNorm2d(32)),\n",
    "    ('conv4', nn.Conv2d(32, 32, 3, padding=1)),\n",
    "    ('relu4', nn.ReLU()),\n",
    "    ('bnorm4', nn.BatchNorm2d(32)),\n",
    "    ('pool1', nn.MaxPool2d(kernel_size=(2, 1))),\n",
    "    ('dropout1', nn.Dropout(0.5)),\n",
    "    ('conv5', nn.Conv2d(32, 64, 3)),\n",
    "    ('relu5', nn.ReLU()),\n",
    "    ('bnorm5', nn.BatchNorm2d(64)),\n",
    "    ('conv6', nn.Conv2d(64, 64, 3)),\n",
    "    ('relu6', nn.ReLU()),\n",
    "    ('bnorm6', nn.BatchNorm2d(64)),\n",
    "    ('pool2', nn.MaxPool2d(kernel_size=(2, 1))),\n",
    "    ('dropout2', nn.Dropout(0.5)),\n",
    "    ('conv7', torch.nn.Conv2d(64, 128, kernel_size=(12, 9))),\n",
    "    ('relu7', nn.ReLU()),\n",
    "    ('bnorm7', nn.BatchNorm2d(128)),\n",
    "    ('dropout3', nn.Dropout(0.5)),\n",
    "    ('conv8', torch.nn.Conv2d(128, 25, 1)),\n",
    "    ('pool3', nn.AvgPool2d(kernel_size=(13, 3))),\n",
    "]))"
   ]
  },
  {
   "cell_type": "code",
   "execution_count": 7,
   "metadata": {},
   "outputs": [
    {
     "ename": "KeyboardInterrupt",
     "evalue": "",
     "output_type": "error",
     "traceback": [
      "\u001b[0;31m---------------------------------------------------------------------------\u001b[0m",
      "\u001b[0;31mKeyboardInterrupt\u001b[0m                         Traceback (most recent call last)",
      "\u001b[0;32m<ipython-input-7-161eef843e39>\u001b[0m in \u001b[0;36m<module>\u001b[0;34m\u001b[0m\n\u001b[1;32m      5\u001b[0m \u001b[0moptimizer\u001b[0m \u001b[0;34m=\u001b[0m \u001b[0moptim\u001b[0m\u001b[0;34m.\u001b[0m\u001b[0mAdam\u001b[0m\u001b[0;34m(\u001b[0m\u001b[0mmodel\u001b[0m\u001b[0;34m.\u001b[0m\u001b[0mparameters\u001b[0m\u001b[0;34m(\u001b[0m\u001b[0;34m)\u001b[0m\u001b[0;34m,\u001b[0m \u001b[0mlr\u001b[0m\u001b[0;34m=\u001b[0m\u001b[0mlearning_rate\u001b[0m\u001b[0;34m,\u001b[0m \u001b[0mbetas\u001b[0m\u001b[0;34m=\u001b[0m\u001b[0;34m(\u001b[0m\u001b[0;36m0.9\u001b[0m\u001b[0;34m,\u001b[0m \u001b[0;36m0.999\u001b[0m\u001b[0;34m)\u001b[0m\u001b[0;34m,\u001b[0m \u001b[0mweight_decay\u001b[0m\u001b[0;34m=\u001b[0m\u001b[0;36m1e-7\u001b[0m\u001b[0;34m)\u001b[0m\u001b[0;34m\u001b[0m\u001b[0;34m\u001b[0m\u001b[0m\n\u001b[1;32m      6\u001b[0m \u001b[0;34m\u001b[0m\u001b[0m\n\u001b[0;32m----> 7\u001b[0;31m \u001b[0mtrain_model\u001b[0m\u001b[0;34m(\u001b[0m\u001b[0mmodel\u001b[0m\u001b[0;34m,\u001b[0m \u001b[0moptimizer\u001b[0m\u001b[0;34m,\u001b[0m \u001b[0mdataloaders\u001b[0m\u001b[0;34m,\u001b[0m \u001b[0mdevice\u001b[0m\u001b[0;34m,\u001b[0m \u001b[0;36m1\u001b[0m\u001b[0;34m)\u001b[0m\u001b[0;34m\u001b[0m\u001b[0;34m\u001b[0m\u001b[0m\n\u001b[0m",
      "\u001b[0;32m<ipython-input-5-3a566db8836f>\u001b[0m in \u001b[0;36mtrain_model\u001b[0;34m(model, optimizer, dataloaders, device, epochs)\u001b[0m\n\u001b[1;32m     30\u001b[0m                     \u001b[0;31m# This is the backwards pass: compute the gradient of the loss with\u001b[0m\u001b[0;34m\u001b[0m\u001b[0;34m\u001b[0m\u001b[0;34m\u001b[0m\u001b[0m\n\u001b[1;32m     31\u001b[0m                     \u001b[0;31m# respect to each  parameter of the model.\u001b[0m\u001b[0;34m\u001b[0m\u001b[0;34m\u001b[0m\u001b[0;34m\u001b[0m\u001b[0m\n\u001b[0;32m---> 32\u001b[0;31m                     \u001b[0mloss\u001b[0m\u001b[0;34m.\u001b[0m\u001b[0mbackward\u001b[0m\u001b[0;34m(\u001b[0m\u001b[0;34m)\u001b[0m\u001b[0;34m\u001b[0m\u001b[0;34m\u001b[0m\u001b[0m\n\u001b[0m\u001b[1;32m     33\u001b[0m \u001b[0;34m\u001b[0m\u001b[0m\n\u001b[1;32m     34\u001b[0m                     \u001b[0;31m# Actually update the parameters of the model using the gradients\u001b[0m\u001b[0;34m\u001b[0m\u001b[0;34m\u001b[0m\u001b[0;34m\u001b[0m\u001b[0m\n",
      "\u001b[0;32m~/ml-course/.env/lib/python3.7/site-packages/torch/tensor.py\u001b[0m in \u001b[0;36mbackward\u001b[0;34m(self, gradient, retain_graph, create_graph)\u001b[0m\n\u001b[1;32m    183\u001b[0m                 \u001b[0mproducts\u001b[0m\u001b[0;34m.\u001b[0m \u001b[0mDefaults\u001b[0m \u001b[0mto\u001b[0m\u001b[0;31m \u001b[0m\u001b[0;31m`\u001b[0m\u001b[0;31m`\u001b[0m\u001b[0;32mFalse\u001b[0m\u001b[0;31m`\u001b[0m\u001b[0;31m`\u001b[0m\u001b[0;34m.\u001b[0m\u001b[0;34m\u001b[0m\u001b[0;34m\u001b[0m\u001b[0m\n\u001b[1;32m    184\u001b[0m         \"\"\"\n\u001b[0;32m--> 185\u001b[0;31m         \u001b[0mtorch\u001b[0m\u001b[0;34m.\u001b[0m\u001b[0mautograd\u001b[0m\u001b[0;34m.\u001b[0m\u001b[0mbackward\u001b[0m\u001b[0;34m(\u001b[0m\u001b[0mself\u001b[0m\u001b[0;34m,\u001b[0m \u001b[0mgradient\u001b[0m\u001b[0;34m,\u001b[0m \u001b[0mretain_graph\u001b[0m\u001b[0;34m,\u001b[0m \u001b[0mcreate_graph\u001b[0m\u001b[0;34m)\u001b[0m\u001b[0;34m\u001b[0m\u001b[0;34m\u001b[0m\u001b[0m\n\u001b[0m\u001b[1;32m    186\u001b[0m \u001b[0;34m\u001b[0m\u001b[0m\n\u001b[1;32m    187\u001b[0m     \u001b[0;32mdef\u001b[0m \u001b[0mregister_hook\u001b[0m\u001b[0;34m(\u001b[0m\u001b[0mself\u001b[0m\u001b[0;34m,\u001b[0m \u001b[0mhook\u001b[0m\u001b[0;34m)\u001b[0m\u001b[0;34m:\u001b[0m\u001b[0;34m\u001b[0m\u001b[0;34m\u001b[0m\u001b[0m\n",
      "\u001b[0;32m~/ml-course/.env/lib/python3.7/site-packages/torch/autograd/__init__.py\u001b[0m in \u001b[0;36mbackward\u001b[0;34m(tensors, grad_tensors, retain_graph, create_graph, grad_variables)\u001b[0m\n\u001b[1;32m    125\u001b[0m     Variable._execution_engine.run_backward(\n\u001b[1;32m    126\u001b[0m         \u001b[0mtensors\u001b[0m\u001b[0;34m,\u001b[0m \u001b[0mgrad_tensors\u001b[0m\u001b[0;34m,\u001b[0m \u001b[0mretain_graph\u001b[0m\u001b[0;34m,\u001b[0m \u001b[0mcreate_graph\u001b[0m\u001b[0;34m,\u001b[0m\u001b[0;34m\u001b[0m\u001b[0;34m\u001b[0m\u001b[0m\n\u001b[0;32m--> 127\u001b[0;31m         allow_unreachable=True)  # allow_unreachable flag\n\u001b[0m\u001b[1;32m    128\u001b[0m \u001b[0;34m\u001b[0m\u001b[0m\n\u001b[1;32m    129\u001b[0m \u001b[0;34m\u001b[0m\u001b[0m\n",
      "\u001b[0;31mKeyboardInterrupt\u001b[0m: "
     ]
    }
   ],
   "source": [
    "device = torch.device('cuda') if torch.cuda.is_available() else torch.device('cpu')\n",
    "\n",
    "#model = MirexNet()\n",
    "learning_rate = 1e-3\n",
    "optimizer = optim.Adam(model.parameters(), lr=learning_rate, betas=(0.9, 0.999), weight_decay=1e-7)\n",
    "\n",
    "train_model(model, optimizer, dataloaders, device, 1)"
   ]
  },
  {
   "cell_type": "code",
   "execution_count": 17,
   "metadata": {},
   "outputs": [
    {
     "data": {
      "text/plain": [
       "Sequential(\n",
       "  (conv1): Conv2d(1, 32, kernel_size=(3, 3), stride=(1, 1), padding=(1, 1))\n",
       "  (relu1): ReLU()\n",
       "  (bnorm1): BatchNorm2d(32, eps=1e-05, momentum=0.1, affine=True, track_running_stats=True)\n",
       "  (conv2): Conv2d(32, 32, kernel_size=(3, 3), stride=(1, 1), padding=(1, 1))\n",
       "  (relu2): ReLU()\n",
       "  (bnorm2): BatchNorm2d(32, eps=1e-05, momentum=0.1, affine=True, track_running_stats=True)\n",
       "  (conv3): Conv2d(32, 32, kernel_size=(3, 3), stride=(1, 1), padding=(1, 1))\n",
       "  (relu3): ReLU()\n",
       "  (bnorm3): BatchNorm2d(32, eps=1e-05, momentum=0.1, affine=True, track_running_stats=True)\n",
       "  (conv4): Conv2d(32, 32, kernel_size=(3, 3), stride=(1, 1), padding=(1, 1))\n",
       "  (relu4): ReLU()\n",
       "  (bnorm4): BatchNorm2d(32, eps=1e-05, momentum=0.1, affine=True, track_running_stats=True)\n",
       "  (pool1): MaxPool2d(kernel_size=(2, 1), stride=(2, 1), padding=0, dilation=1, ceil_mode=False)\n",
       "  (dropout1): Dropout(p=0.5, inplace=False)\n",
       "  (conv5): Conv2d(32, 64, kernel_size=(3, 3), stride=(1, 1))\n",
       "  (relu5): ReLU()\n",
       "  (bnorm5): BatchNorm2d(64, eps=1e-05, momentum=0.1, affine=True, track_running_stats=True)\n",
       "  (conv6): Conv2d(64, 64, kernel_size=(3, 3), stride=(1, 1))\n",
       "  (relu6): ReLU()\n",
       "  (bnorm6): BatchNorm2d(64, eps=1e-05, momentum=0.1, affine=True, track_running_stats=True)\n",
       "  (pool2): MaxPool2d(kernel_size=(2, 1), stride=(2, 1), padding=0, dilation=1, ceil_mode=False)\n",
       "  (dropout2): Dropout(p=0.5, inplace=False)\n",
       "  (conv7): Conv2d(64, 128, kernel_size=(12, 9), stride=(1, 1))\n",
       "  (relu7): ReLU()\n",
       "  (bnorm7): BatchNorm2d(128, eps=1e-05, momentum=0.1, affine=True, track_running_stats=True)\n",
       "  (dropout3): Dropout(p=0.5, inplace=False)\n",
       "  (conv8): Conv2d(128, 25, kernel_size=(1, 1), stride=(1, 1))\n",
       "  (pool3): AvgPool2d(kernel_size=(13, 3), stride=(13, 3), padding=0)\n",
       ")"
      ]
     },
     "execution_count": 17,
     "metadata": {},
     "output_type": "execute_result"
    }
   ],
   "source": [
    "#torch.save(model.state_dict(), 'models/mirex_cnn.model')\n",
    "# model = TheModelClass(*args, **kwargs)\n",
    "model.load_state_dict(torch.load('models/mirex_cnn.model'))\n",
    "model.eval()"
   ]
  },
  {
   "cell_type": "code",
   "execution_count": 27,
   "metadata": {},
   "outputs": [],
   "source": [
    "chord_dataset = MirexDataset(audio_dir='data/queen/mp3/Greatest_Hits_II/',\n",
    "                             ann_dir='data/queen/chordlabs/Greatest_Hits_II/',\n",
    "                             window_size=8192, hop_length=4096)\n",
    "loader_chord = DataLoader(chord_dataset, shuffle=True, batch_size=None, num_workers=0)"
   ]
  },
  {
   "cell_type": "code",
   "execution_count": 19,
   "metadata": {},
   "outputs": [],
   "source": [
    "from container import ContextContainer\n",
    "from metrics import compute_eval_measures\n",
    "\n",
    "@torch.no_grad()\n",
    "def estimate_chords(dataloader, model, device, scores_dir='scores'):\n",
    "    model.eval()  # set model to evaluation mode\n",
    "    \n",
    "    if not os.path.exists(scores_dir):\n",
    "        os.makedirs(scores_dir)\n",
    "    \n",
    "    criterion = nn.Softmax()\n",
    "    for sample in dataloader:\n",
    "        chromagram = sample['chromagram']\n",
    "        \n",
    "        container = ContextContainer(chromagram, 7)\n",
    "        result = torch.empty(25, chromagram.shape[1])\n",
    "        for idx, frame in enumerate(container):\n",
    "            frame = frame.view(1, 1, *frame.shape)\n",
    "            \n",
    "            inputs = frame.to(device=device, dtype=torch.float32)\n",
    "            scores = model(inputs)\n",
    "            scores = torch.squeeze(scores)\n",
    "            scores = criterion(scores)\n",
    "\n",
    "            result[:, idx] = scores\n",
    "        \n",
    "        _, preds = torch.max(result, 0)\n",
    "        result = F.one_hot(preds, result.shape[0]).t_()\n",
    "\n",
    "        ann_matrix = sample['ann_matrix'].data.numpy()\n",
    "        result = result.data.numpy()\n",
    "        \n",
    "        P, R, F1, TP, FP, FN = compute_eval_measures(ann_matrix, result)\n",
    "        title = 'Evaluation result (N=%d, TP=%d, FP=%d, FN=%d, P=%.3f, R=%.3f, F=%.3f)' % (result.shape[1], TP, FP, FN, P,R,F1)\n",
    "        print(title)\n",
    "        #break"
   ]
  },
  {
   "cell_type": "code",
   "execution_count": 28,
   "metadata": {},
   "outputs": [
    {
     "name": "stdout",
     "output_type": "stream",
     "text": [
      "Evaluation result (N=2786, TP=1238, FP=1548, FN=1453, P=0.444, R=0.460, F=0.452)\n",
      "Evaluation result (N=3198, TP=424, FP=2774, FN=1068, P=0.133, R=0.284, F=0.181)\n",
      "Evaluation result (N=2600, TP=1026, FP=1574, FN=854, P=0.395, R=0.546, F=0.458)\n",
      "Evaluation result (N=2370, TP=1252, FP=1118, FN=162, P=0.528, R=0.885, F=0.662)\n",
      "Evaluation result (N=2681, TP=919, FP=1762, FN=779, P=0.343, R=0.541, F=0.420)\n",
      "Evaluation result (N=2822, TP=1266, FP=1556, FN=980, P=0.449, R=0.564, F=0.500)\n"
     ]
    }
   ],
   "source": [
    "estimate_chords(loader_chord, model, device)"
   ]
  },
  {
   "cell_type": "code",
   "execution_count": null,
   "metadata": {},
   "outputs": [],
   "source": []
  },
  {
   "cell_type": "code",
   "execution_count": null,
   "metadata": {},
   "outputs": [],
   "source": []
  },
  {
   "cell_type": "code",
   "execution_count": null,
   "metadata": {},
   "outputs": [],
   "source": []
  }
 ],
 "metadata": {
  "kernelspec": {
   "display_name": "Python 3",
   "language": "python",
   "name": "python3"
  },
  "language_info": {
   "codemirror_mode": {
    "name": "ipython",
    "version": 3
   },
   "file_extension": ".py",
   "mimetype": "text/x-python",
   "name": "python",
   "nbconvert_exporter": "python",
   "pygments_lexer": "ipython3",
   "version": "3.7.6"
  }
 },
 "nbformat": 4,
 "nbformat_minor": 4
}
