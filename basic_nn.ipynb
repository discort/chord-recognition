{
 "cells": [
  {
   "cell_type": "code",
   "execution_count": 1,
   "metadata": {},
   "outputs": [],
   "source": [
    "from copy import deepcopy, copy\n",
    "import os\n",
    "import pathlib\n",
    "from random import shuffle\n",
    "\n",
    "import numpy as np\n",
    "import pandas as pd\n",
    "import librosa\n",
    "import librosa.display\n",
    "import matplotlib.pyplot as plt\n",
    "\n",
    "import torch\n",
    "import torch.nn as nn\n",
    "import torch.nn.functional as F\n",
    "import torch.optim as optim\n",
    "from torch.utils.data import DataLoader, Dataset, ChainDataset, ConcatDataset\n",
    "from livelossplot import PlotLosses\n",
    "\n",
    "%matplotlib inline\n",
    "plt.rcParams['figure.figsize'] = (14, 5)"
   ]
  },
  {
   "cell_type": "code",
   "execution_count": null,
   "metadata": {},
   "outputs": [],
   "source": []
  },
  {
   "cell_type": "code",
   "execution_count": null,
   "metadata": {},
   "outputs": [],
   "source": []
  },
  {
   "cell_type": "code",
   "execution_count": 3,
   "metadata": {},
   "outputs": [],
   "source": [
    "class MirexNet(nn.Module):\n",
    "    def __init__(self):\n",
    "        super(MirexNet, self).__init__()\n",
    "        self.conv1 = nn.Conv2d(1, 32, 3, padding=1)\n",
    "        self.conv2 = nn.Conv2d(32, 32, 3, padding=1)\n",
    "        self.conv3 = nn.Conv2d(32, 32, 3, padding=1)\n",
    "        self.conv4 = nn.Conv2d(32, 32, 3, padding=1)\n",
    "        self.pool = nn.MaxPool2d(kernel_size=(2, 1))\n",
    "        self.conv5 = torch.nn.Conv2d(32, 64, 3)\n",
    "        self.conv6 = torch.nn.Conv2d(64, 64, 3)\n",
    "        self.conv7 = torch.nn.Conv2d(64, 128, kernel_size=(12, 9))\n",
    "        self.conv8 = torch.nn.Conv2d(128, 25, 1)\n",
    "        self.dropout = nn.Dropout(0.5)\n",
    "        self.avg_pool = nn.AvgPool2d(kernel_size=(13, 3))\n",
    "\n",
    "    def forward(self, x):\n",
    "        x = F.relu(self.conv1(x))\n",
    "        x = F.relu(self.conv2(x))\n",
    "        x = F.relu(self.conv3(x))\n",
    "        x = F.relu(self.conv4(x))\n",
    "        x = self.pool(x)\n",
    "        x = self.dropout(x)\n",
    "        x = F.relu(self.conv5(x))\n",
    "        x = F.relu(self.conv6(x))\n",
    "        x = self.pool(x)\n",
    "        x = self.dropout(x)\n",
    "        x = F.relu(self.conv7(x))\n",
    "        x = self.dropout(x)\n",
    "        x = self.conv8(x)\n",
    "        x = self.avg_pool(x)\n",
    "        return x"
   ]
  },
  {
   "cell_type": "code",
   "execution_count": null,
   "metadata": {},
   "outputs": [],
   "source": []
  },
  {
   "cell_type": "code",
   "execution_count": null,
   "metadata": {},
   "outputs": [],
   "source": []
  },
  {
   "cell_type": "code",
   "execution_count": null,
   "metadata": {},
   "outputs": [],
   "source": []
  },
  {
   "cell_type": "code",
   "execution_count": 2,
   "metadata": {},
   "outputs": [],
   "source": [
    "from dataset import MirexDataset, MirexFameDataset, MirexChainDataset\n",
    "\n",
    "\n",
    "beatles_dataset = MirexFameDataset(audio_dir='data/beatles/mp3s-32k/',\n",
    "                                   ann_dir='data/beatles/chordlabs/',\n",
    "                                   window_size=8192, hop_length=4096, context_size=7)\n",
    "queen_dataset = MirexFameDataset(audio_dir='data/queen/mp3/',\n",
    "                                 ann_dir='data/queen/chordlabs/',\n",
    "                                 window_size=8192, hop_length=4096, context_size=7)\n",
    "dataset = ConcatDataset([beatles_dataset, queen_dataset])\n",
    "train_size = int(0.8 * len(dataset))\n",
    "test_size = len(dataset) - train_size\n",
    "train_dataset, test_dataset = torch.utils.data.random_split(dataset, [train_size, test_size])\n",
    "\n",
    "loader_train = DataLoader(train_dataset, shuffle=True, num_workers=0, batch_size=32)\n",
    "loader_val = DataLoader(test_dataset, shuffle=True, num_workers=0, batch_size=32)\n",
    "\n",
    "dataloaders = {\n",
    "    \"train\": loader_train,\n",
    "    \"val\": loader_val\n",
    "}"
   ]
  },
  {
   "cell_type": "code",
   "execution_count": null,
   "metadata": {},
   "outputs": [],
   "source": []
  },
  {
   "cell_type": "code",
   "execution_count": 3,
   "metadata": {},
   "outputs": [],
   "source": [
    "def train_model(model, optimizer, dataloaders, device, epochs=1):\n",
    "    liveloss = PlotLosses()\n",
    "    model = model.to(device=device)\n",
    "    \n",
    "    for e in range(epochs):\n",
    "        logs = {}\n",
    "        for phase in ['train', 'val']:\n",
    "            if phase == 'train':\n",
    "                model.train()  # put model to training mode\n",
    "            else:\n",
    "                model.eval()\n",
    "                \n",
    "            running_loss = 0.0\n",
    "            running_corrects = 0\n",
    "        \n",
    "            for inputs, labels in dataloaders[phase]:\n",
    "                inputs = inputs.to(device=device, dtype=torch.float32)\n",
    "                labels = labels.to(device=device, dtype=torch.long)\n",
    "                if phase == 'train':\n",
    "                    # Zero out all of the gradients for the variables which the optimizer\n",
    "                    # will update.\n",
    "                    optimizer.zero_grad()\n",
    "            \n",
    "                scores = model(inputs)\n",
    "                scores = scores.squeeze(3).squeeze(2)                \n",
    "                loss = F.cross_entropy(scores, labels)\n",
    "                \n",
    "                _, preds = torch.max(scores, 1)\n",
    "                running_corrects += torch.sum(preds == labels)\n",
    "\n",
    "        \n",
    "                if phase == 'train':        \n",
    "                    # This is the backwards pass: compute the gradient of the loss with\n",
    "                    # respect to each  parameter of the model.\n",
    "                    loss.backward()\n",
    "        \n",
    "                    # Actually update the parameters of the model using the gradients\n",
    "                    # computed by the backwards pass.\n",
    "                    optimizer.step()\n",
    "            \n",
    "                running_loss += loss.detach() * inputs.size(0)\n",
    "        \n",
    "            epoch_loss = running_loss / len(dataloaders[phase].dataset)\n",
    "            epoch_acc = running_corrects.float() / len(dataloaders[phase].dataset)\n",
    "            prefix = ''\n",
    "            if phase == 'val':\n",
    "                prefix = 'val_'\n",
    "            \n",
    "            logs[prefix + ' log loss'] = epoch_loss.item()\n",
    "            logs[prefix + 'accuracy'] = epoch_acc.item()\n",
    "        \n",
    "        liveloss.update(logs)\n",
    "        liveloss.send()"
   ]
  },
  {
   "cell_type": "code",
   "execution_count": 4,
   "metadata": {},
   "outputs": [],
   "source": [
    "from collections import OrderedDict\n",
    "\n",
    "model = nn.Sequential(OrderedDict([\n",
    "    ('conv1', nn.Conv2d(1, 32, 3, padding=1)),\n",
    "    ('relu1', nn.ReLU()),\n",
    "    ('bnorm1', nn.BatchNorm2d(32)),\n",
    "    ('conv2', nn.Conv2d(32, 32, 3, padding=1)),\n",
    "    ('relu2', nn.ReLU()),\n",
    "    ('bnorm2', nn.BatchNorm2d(32)),\n",
    "    ('conv3', nn.Conv2d(32, 32, 3, padding=1)),\n",
    "    ('relu3', nn.ReLU()),\n",
    "    ('bnorm3', nn.BatchNorm2d(32)),\n",
    "    ('conv4', nn.Conv2d(32, 32, 3, padding=1)),\n",
    "    ('relu4', nn.ReLU()),\n",
    "    ('bnorm4', nn.BatchNorm2d(32)),\n",
    "    ('pool1', nn.MaxPool2d(kernel_size=(2, 1))),\n",
    "    ('dropout1', nn.Dropout(0.5)),\n",
    "    ('conv5', nn.Conv2d(32, 64, 3)),\n",
    "    ('relu5', nn.ReLU()),\n",
    "    ('bnorm5', nn.BatchNorm2d(64)),\n",
    "    ('conv6', nn.Conv2d(64, 64, 3)),\n",
    "    ('relu6', nn.ReLU()),\n",
    "    ('bnorm6', nn.BatchNorm2d(64)),\n",
    "    ('pool2', nn.MaxPool2d(kernel_size=(2, 1))),\n",
    "    ('dropout2', nn.Dropout(0.5)),\n",
    "    ('conv7', torch.nn.Conv2d(64, 128, kernel_size=(12, 9))),\n",
    "    ('relu7', nn.ReLU()),\n",
    "    ('bnorm7', nn.BatchNorm2d(128)),\n",
    "    ('dropout3', nn.Dropout(0.5)),\n",
    "    ('conv8', torch.nn.Conv2d(128, 25, 1)),\n",
    "    ('pool3', nn.AvgPool2d(kernel_size=(13, 3))),\n",
    "]))"
   ]
  },
  {
   "cell_type": "code",
   "execution_count": 5,
   "metadata": {},
   "outputs": [
    {
     "data": {
      "image/png": "[encoded data removed]",
      "text/plain": [
       "<Figure size 864x576 with 2 Axes>"
      ]
     },
     "metadata": {
      "needs_background": "light"
     },
     "output_type": "display_data"
    },
    {
     "name": "stdout",
     "output_type": "stream",
     "text": [
      " log loss\n",
      "\ttraining         \t (min:    0.629, max:    1.301, cur:    0.629)\n",
      "\tvalidation       \t (min:    0.692, max:    0.982, cur:    0.692)\n",
      "accuracy\n",
      "\ttraining         \t (min:    0.596, max:    0.790, cur:    0.790)\n",
      "\tvalidation       \t (min:    0.680, max:    0.779, cur:    0.779)\n"
     ]
    }
   ],
   "source": [
    "device = torch.device('cuda') if torch.cuda.is_available() else torch.device('cpu')\n",
    "\n",
    "#model = MirexNet()\n",
    "learning_rate = 1e-3\n",
    "optimizer = optim.Adam(model.parameters(), lr=learning_rate, betas=(0.9, 0.999), weight_decay=1e-7)\n",
    "\n",
    "train_model(model, optimizer, dataloaders, device, 5)"
   ]
  },
  {
   "cell_type": "code",
   "execution_count": 6,
   "metadata": {},
   "outputs": [],
   "source": [
    "torch.save(model.state_dict(), 'models/isio_mirex_cnn.model')\n",
    "# model = TheModelClass(*args, **kwargs)\n",
    "# model.load_state_dict(torch.load('models/mirex_cnn.model'))\n",
    "# model.eval()"
   ]
  },
  {
   "cell_type": "code",
   "execution_count": 12,
   "metadata": {},
   "outputs": [],
   "source": [
    "chord_dataset = MirexDataset(audio_dir='data/carole_king/mp3/',\n",
    "                             ann_dir='data/carole_king/chordlabs/',\n",
    "                             window_size=8192, hop_length=4096)\n",
    "loader_chord = DataLoader(chord_dataset, batch_size=None, num_workers=0)"
   ]
  },
  {
   "cell_type": "code",
   "execution_count": 9,
   "metadata": {},
   "outputs": [],
   "source": [
    "from container import ContextContainer\n",
    "from metrics import compute_eval_measures\n",
    "\n",
    "@torch.no_grad()\n",
    "def estimate_chords(dataloader, model, device, scores_dir='scores'):\n",
    "    model.eval()  # set model to evaluation mode\n",
    "    \n",
    "    if not os.path.exists(scores_dir):\n",
    "        os.makedirs(scores_dir)\n",
    "    \n",
    "    criterion = nn.Softmax()\n",
    "    for sample in dataloader:\n",
    "        chromagram = sample['chromagram']\n",
    "        \n",
    "        container = ContextContainer(chromagram, 7)\n",
    "        result = torch.empty(25, chromagram.shape[1])\n",
    "        for idx, frame in enumerate(container):\n",
    "            frame = frame.view(1, 1, *frame.shape)\n",
    "            \n",
    "            inputs = frame.to(device=device, dtype=torch.float32)\n",
    "            scores = model(inputs)\n",
    "            scores = torch.squeeze(scores)\n",
    "            scores = criterion(scores)\n",
    "\n",
    "            result[:, idx] = scores\n",
    "        \n",
    "        _, preds = torch.max(result, 0)\n",
    "        result = F.one_hot(preds, result.shape[0]).t_()\n",
    "\n",
    "        ann_matrix = sample['ann_matrix'].data.numpy()\n",
    "        result = result.data.numpy()\n",
    "        \n",
    "        P, R, F1, TP, FP, FN = compute_eval_measures(ann_matrix, result)\n",
    "        title = 'Evaluation result (N=%d, TP=%d, FP=%d, FN=%d, P=%.3f, R=%.3f, F=%.3f)' % (result.shape[1], TP, FP, FN, P,R,F1)\n",
    "        print(title)\n",
    "        #break"
   ]
  },
  {
   "cell_type": "code",
   "execution_count": 10,
   "metadata": {},
   "outputs": [
    {
     "name": "stdout",
     "output_type": "stream",
     "text": [
      "Evaluation result (N=2681, TP=1234, FP=1447, FN=464, P=0.460, R=0.727, F=0.564)\n",
      "Evaluation result (N=2822, TP=1983, FP=839, FN=263, P=0.703, R=0.883, F=0.783)\n",
      "Evaluation result (N=3198, TP=1031, FP=2167, FN=461, P=0.322, R=0.691, F=0.440)\n",
      "Evaluation result (N=2786, TP=2263, FP=523, FN=428, P=0.812, R=0.841, F=0.826)\n",
      "Evaluation result (N=2370, TP=1343, FP=1027, FN=71, P=0.567, R=0.950, F=0.710)\n",
      "Evaluation result (N=2600, TP=1582, FP=1018, FN=298, P=0.608, R=0.841, F=0.706)\n"
     ]
    }
   ],
   "source": [
    "estimate_chords(loader_chord, model, device)"
   ]
  },
  {
   "cell_type": "code",
   "execution_count": 4,
   "metadata": {},
   "outputs": [],
   "source": [
    "# Add validation accuracy to graph\n",
    "# Add saving model on best accuracy\n",
    "# Use argmax instead of max in loss\n",
    "# Make map-style dataset\n",
    "# Put optimizer.zero_grad into correct place"
   ]
  },
  {
   "cell_type": "code",
   "execution_count": 13,
   "metadata": {},
   "outputs": [
    {
     "name": "stdout",
     "output_type": "stream",
     "text": [
      "Evaluation result (N=3335, TP=613, FP=2722, FN=1234, P=0.184, R=0.332, F=0.237)\n",
      "Evaluation result (N=2515, TP=29, FP=2486, FN=3, P=0.012, R=0.906, F=0.023)\n",
      "Evaluation result (N=1928, TP=32, FP=1896, FN=16, P=0.017, R=0.667, F=0.032)\n",
      "Evaluation result (N=2021, TP=433, FP=1588, FN=224, P=0.214, R=0.659, F=0.323)\n",
      "Evaluation result (N=1605, TP=668, FP=937, FN=118, P=0.416, R=0.850, F=0.559)\n",
      "Evaluation result (N=2537, TP=108, FP=2429, FN=47, P=0.043, R=0.697, F=0.080)\n",
      "Evaluation result (N=3062, TP=262, FP=2800, FN=1010, P=0.086, R=0.206, F=0.121)\n"
     ]
    }
   ],
   "source": [
    "estimate_chords(loader_chord, model, device)"
   ]
  },
  {
   "cell_type": "code",
   "execution_count": null,
   "metadata": {},
   "outputs": [],
   "source": []
  }
 ],
 "metadata": {
  "kernelspec": {
   "display_name": "Python 3",
   "language": "python",
   "name": "python3"
  },
  "language_info": {
   "codemirror_mode": {
    "name": "ipython",
    "version": 3
   },
   "file_extension": ".py",
   "mimetype": "text/x-python",
   "name": "python",
   "nbconvert_exporter": "python",
   "pygments_lexer": "ipython3",
   "version": "3.6.9"
  }
 },
 "nbformat": 4,
 "nbformat_minor": 4
}
