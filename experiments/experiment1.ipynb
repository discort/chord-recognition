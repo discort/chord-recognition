{
 "cells": [
  {
   "cell_type": "code",
   "execution_count": 1,
   "metadata": {},
   "outputs": [],
   "source": [
    "import itertools\n",
    "import os\n",
    "import sys\n",
    "\n",
    "import numpy as np\n",
    "import pandas as pd\n",
    "import matplotlib.pyplot as plt\n",
    "\n",
    "import torch\n",
    "import torch.optim as optim\n",
    "from torch.utils.data import DataLoader, Dataset\n",
    "from sklearn.model_selection import train_test_split\n",
    "\n",
    "PROJECT_DIR = os.path.dirname(os.getcwd())\n",
    "if PROJECT_DIR not in sys.path:\n",
    "    sys.path.insert(0, PROJECT_DIR)\n",
    "\n",
    "from chord_recognition.cache import HDF5Cache\n",
    "from chord_recognition.models import deep_auditory_v2\n",
    "from chord_recognition.dataset import ChromaDataset, prepare_datasource, undersample_dataset\n",
    "from chord_recognition.utils import standardize\n",
    "from chord_recognition.train import get_weighted_random_sampler, Solver\n",
    "\n",
    "torch.manual_seed(2020)\n",
    "RANDOM_STATE = 42\n",
    "\n",
    "%matplotlib inline\n",
    "plt.rcParams['figure.figsize'] = (14, 5)\n",
    "\n",
    "%load_ext autoreload\n",
    "%autoreload 2"
   ]
  },
  {
   "cell_type": "code",
   "execution_count": 3,
   "metadata": {},
   "outputs": [],
   "source": [
    "# Load all avaiable datasets\n",
    "datasource = prepare_datasource(('queen', 'beatles', 'robbie_williams', 'zweieck'))\n",
    "dataset = ChromaDataset(\n",
    "    datasource, window_size=8192, hop_length=4096, context_size=7,\n",
    "    cache=HDF5Cache(os.path.join(PROJECT_DIR, 'chroma_cache.hdf5')))"
   ]
  },
  {
   "cell_type": "code",
   "execution_count": 6,
   "metadata": {},
   "outputs": [
    {
     "name": "stdout",
     "output_type": "stream",
     "text": [
      "387726 train samples, 96932 val samples\n"
     ]
    }
   ],
   "source": [
    "# Split dataset into train/val keeping equal proportions of the each class\n",
    "# Now train and val datasets have equal probability distributions of classes\n",
    "X = [s for s, _ in dataset]\n",
    "targets = [t for _, t in dataset]\n",
    "indices = np.arange(len(X))\n",
    "X_train, X_val, y_train, y_val, _, _ = train_test_split(\n",
    "    X, targets, indices, test_size=0.2, stratify=targets, random_state=RANDOM_STATE)\n",
    "\n",
    "print(\"{0} train samples, {1} val samples\".format(len(X_train), len(X_val)))\n",
    "del X"
   ]
  },
  {
   "cell_type": "code",
   "execution_count": 11,
   "metadata": {},
   "outputs": [],
   "source": [
    "# Calculate TRAIN_MEAN, TRAIN_STD\n",
    "X_train_temp = np.hstack([sample.squeeze(0) for sample in X_train])\n",
    "TRAIN_MEAN = X_train_temp.mean(axis=1).reshape(-1, 1)\n",
    "TRAIN_STD = X_train_temp.std(axis=1).reshape(-1, 1)\n",
    "\n",
    "# Rescale inputs to have a mean of 0 and std of 1\n",
    "train_data = [(standardize(i, TRAIN_MEAN, TRAIN_STD), t) for i, t in zip(X_train, y_train)]\n",
    "val_data = [(standardize(i, TRAIN_MEAN, TRAIN_STD), t) for i, t in zip(X_val, y_val)]\n",
    "\n",
    "del X_train_temp, X_train, X_val, y_val"
   ]
  },
  {
   "cell_type": "code",
   "execution_count": 12,
   "metadata": {},
   "outputs": [],
   "source": [
    "# Balance the classes in each batch which hopefully helps the training.\n",
    "sampler = get_weighted_random_sampler(targets, y_train)\n",
    "del targets, y_train"
   ]
  },
  {
   "cell_type": "code",
   "execution_count": 13,
   "metadata": {},
   "outputs": [],
   "source": [
    "batch_size = 512\n",
    "\n",
    "# Split dataset into train/val dataloaders\n",
    "loader_train = DataLoader(\n",
    "    dataset=train_data,\n",
    "    batch_size=batch_size,\n",
    "    sampler=sampler,\n",
    "    pin_memory=True,\n",
    "    num_workers=0)\n",
    "loader_val = DataLoader(\n",
    "    dataset=val_data,\n",
    "    num_workers=0,\n",
    "    batch_size=batch_size)\n",
    "\n",
    "dataloaders = {\n",
    "    \"train\": loader_train,\n",
    "    \"val\": loader_val\n",
    "}"
   ]
  },
  {
   "cell_type": "code",
   "execution_count": null,
   "metadata": {
    "scrolled": false
   },
   "outputs": [],
   "source": [
    "model = deep_auditory_v2()\n",
    "learning_rate = 1e-3\n",
    "epochs=128\n",
    "optimizer = optim.Adam(model.parameters(), lr=learning_rate, betas=(0.9, 0.999))\n",
    "\n",
    "solver = Solver(\n",
    "    model=model,\n",
    "    optimizer=optimizer,\n",
    "    dataloaders=dataloaders,\n",
    "    learning_rate=learning_rate,\n",
    "    epochs=epochs)\n",
    "solver.train()"
   ]
  },
  {
   "cell_type": "code",
   "execution_count": null,
   "metadata": {},
   "outputs": [],
   "source": [
    "from sklearn.metrics import confusion_matrix\n",
    "\n",
    "from chord_recognition.utils import one_hot\n",
    "from chord_recognition.ann_utils import convert_annotation_matrix\n",
    "from chord_recognition.evaluate import plot_confusion_matrix\n",
    "from chord_recognition.predict import forward\n",
    "\n",
    "device = torch.device('cpu')\n",
    "model = deep_auditory_v2(pretrained=True)\n",
    "model.eval()\n",
    "if torch.cuda.is_available():\n",
    "    device = torch.device('cuda')\n",
    "    model.cuda()"
   ]
  },
  {
   "cell_type": "code",
   "execution_count": null,
   "metadata": {},
   "outputs": [],
   "source": []
  },
  {
   "cell_type": "code",
   "execution_count": null,
   "metadata": {},
   "outputs": [],
   "source": [
    "val_loader = (i for i,_ in loader_val)\n",
    "y_hat_matrix = forward(model, val_loader, device, 25)"
   ]
  },
  {
   "cell_type": "code",
   "execution_count": null,
   "metadata": {},
   "outputs": [],
   "source": [
    "y_hat_matrix = y_hat_matrix.cpu().data.numpy()"
   ]
  },
  {
   "cell_type": "code",
   "execution_count": null,
   "metadata": {},
   "outputs": [],
   "source": [
    "plt.rcParams['figure.figsize'] = (14, 6)\n",
    "plt.rcParams['figure.dpi'] = 80\n",
    "\n",
    "y_matrix = one_hot(y_val, 25)\n",
    "y_true = convert_annotation_matrix(y_matrix)\n",
    "\n",
    "y_pred = convert_annotation_matrix(y_hat_matrix)\n",
    "labels = dataset.chord_labels\n",
    "cm = confusion_matrix(y_true, y_pred, labels=labels)\n",
    "\n",
    "plot_confusion_matrix(cm, labels)"
   ]
  }
 ],
 "metadata": {
  "kernelspec": {
   "display_name": "Python 3",
   "language": "python",
   "name": "python3"
  },
  "language_info": {
   "codemirror_mode": {
    "name": "ipython",
    "version": 3
   },
   "file_extension": ".py",
   "mimetype": "text/x-python",
   "name": "python",
   "nbconvert_exporter": "python",
   "pygments_lexer": "ipython3",
   "version": "3.8.6"
  }
 },
 "nbformat": 4,
 "nbformat_minor": 4
}
