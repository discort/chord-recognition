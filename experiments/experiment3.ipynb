{
 "cells": [
  {
   "cell_type": "code",
   "execution_count": 3,
   "metadata": {},
   "outputs": [
    {
     "name": "stdout",
     "output_type": "stream",
     "text": [
      "The autoreload extension is already loaded. To reload it, use:\n",
      "  %reload_ext autoreload\n"
     ]
    }
   ],
   "source": [
    "import itertools\n",
    "import os\n",
    "import sys\n",
    "\n",
    "import numpy as np\n",
    "import pandas as pd\n",
    "import matplotlib.pyplot as plt\n",
    "\n",
    "import torch\n",
    "import torch.optim as optim\n",
    "from torch.utils.data import DataLoader, Dataset\n",
    "from sklearn.metrics import confusion_matrix\n",
    "from sklearn.model_selection import train_test_split\n",
    "\n",
    "PROJECT_DIR = os.path.dirname(os.getcwd())\n",
    "if PROJECT_DIR not in sys.path:\n",
    "    sys.path.insert(0, PROJECT_DIR)\n",
    "\n",
    "from chord_recognition.cache import HDF5Cache\n",
    "from chord_recognition.models import deep_auditory_v2\n",
    "from chord_recognition.dataset import ChromaDataset, prepare_datasource, undersample_dataset\n",
    "from chord_recognition.utils import standardize, one_hot\n",
    "from chord_recognition.train import get_weighted_random_sampler, Solver\n",
    "from chord_recognition.ann_utils import convert_annotation_matrix, get_chord_labels\n",
    "from chord_recognition.evaluate import plot_confusion_matrix\n",
    "from chord_recognition.predict import forward\n",
    "\n",
    "\n",
    "torch.manual_seed(2020)\n",
    "RANDOM_STATE = 42\n",
    "\n",
    "%matplotlib inline\n",
    "plt.rcParams['figure.figsize'] = (14, 5)\n",
    "\n",
    "%load_ext autoreload\n",
    "%autoreload 2"
   ]
  },
  {
   "cell_type": "code",
   "execution_count": null,
   "metadata": {},
   "outputs": [],
   "source": [
    "cache = HDF5Cache(os.path.join(PROJECT_DIR, 'chroma_cache.hdf5'))"
   ]
  },
  {
   "cell_type": "code",
   "execution_count": null,
   "metadata": {},
   "outputs": [],
   "source": [
    "# Exp3\n",
    "# Balance datasets separately and concat them into single dataset.\n",
    "\n",
    "# Balance beatles dataset\n",
    "ds = prepare_datasource(('beatles',))\n",
    "dataset = ChromaDataset(\n",
    "    ds, window_size=8192, hop_length=4096,\n",
    "    cache=cache)\n",
    "\n",
    "sampling_strategy = {\n",
    "    0: 8000,\n",
    "    2: 8000,\n",
    "    4: 8000,\n",
    "    5: 8000,\n",
    "    7: 8000,\n",
    "    9: 8000,\n",
    "    11: 8000,\n",
    "    24: 8000,\n",
    "}\n",
    "beatles_X, beatles_y = undersample_dataset(\n",
    "    dataset,\n",
    "    sampling_strategy,\n",
    "    RANDOM_STATE)\n",
    "\n",
    "# Balance robbie_williams dataset\n",
    "ds = prepare_datasource(('robbie_williams',))\n",
    "dataset = ChromaDataset(\n",
    "    ds, window_size=8192, hop_length=4096,\n",
    "    cache=cache)\n",
    "\n",
    "sampling_strategy = {\n",
    "    0: 8000,\n",
    "    2: 8000,\n",
    "    5: 8000,\n",
    "    7: 8000,\n",
    "    9: 8000,\n",
    "    24: 5000,\n",
    "}\n",
    "robbie_williams_X, robbie_williams_y = undersample_dataset(\n",
    "    dataset,\n",
    "    sampling_strategy,\n",
    "    RANDOM_STATE)\n",
    "\n",
    "# Balance queen dataset\n",
    "ds = prepare_datasource(('queen',))\n",
    "dataset = ChromaDataset(\n",
    "    ds, window_size=8192, hop_length=4096,\n",
    "    cache=cache)\n",
    "\n",
    "sampling_strategy = {\n",
    "    2: 4500,\n",
    "}\n",
    "queen_X, queen_y = undersample_dataset(\n",
    "    dataset,\n",
    "    sampling_strategy,\n",
    "    RANDOM_STATE)\n",
    "\n",
    "# Get zweieck data\n",
    "ds = prepare_datasource(('zweieck',))\n",
    "dataset = ChromaDataset(\n",
    "    ds, window_size=8192, hop_length=4096,\n",
    "    cache=cache)\n",
    "\n",
    "zweieck_X = [xi for xi, _ in dataset]\n",
    "zweieck_y = [yi for _, yi in dataset]"
   ]
  },
  {
   "cell_type": "code",
   "execution_count": null,
   "metadata": {},
   "outputs": [],
   "source": [
    "# Concat all datasets\n",
    "dataset = itertools.chain(\n",
    "    zip(beatles_X, beatles_y),\n",
    "    zip(robbie_williams_X, robbie_williams_y),\n",
    "    zip(beatles_X, beatles_y),\n",
    "    zip(queen_X, queen_y),\n",
    "    zip(zweieck_X, zweieck_y),\n",
    ")"
   ]
  },
  {
   "cell_type": "code",
   "execution_count": null,
   "metadata": {},
   "outputs": [],
   "source": [
    "# Split dataset into train/val keeping equal proportions of the each class\n",
    "# Now train and val datasets have equal class probability distributions.\n",
    "ds1, ds2 = itertools.tee(dataset)\n",
    "X = [s for s, _ in ds1]\n",
    "targets = [t for _, t in ds2]\n",
    "indices = np.arange(len(X))\n",
    "X_train, X_val, y_train, y_val, _, _ = train_test_split(\n",
    "    X, targets, indices, test_size=0.2, stratify=targets, random_state=RANDOM_STATE)"
   ]
  },
  {
   "cell_type": "code",
   "execution_count": null,
   "metadata": {},
   "outputs": [],
   "source": [
    "# Calculate TRAIN_MEAN, TRAIN_STD\n",
    "X_train_temp = np.hstack([sample.squeeze(0) for sample in X_train])\n",
    "TRAIN_MEAN = X_train_temp.mean(axis=1).reshape(-1, 1)\n",
    "TRAIN_STD = X_train_temp.std(axis=1).reshape(-1, 1)\n",
    "\n",
    "# Rescale inputs to have a mean of 0 and std of 1\n",
    "train_data = [(standardize(i, TRAIN_MEAN, TRAIN_STD), t) for i, t in zip(X_train, y_train)]\n",
    "val_data = [(standardize(i, TRAIN_MEAN, TRAIN_STD), t) for i, t in zip(X_val, y_val)]\n",
    "\n",
    "del X_train_temp, X_train, X_val"
   ]
  },
  {
   "cell_type": "code",
   "execution_count": null,
   "metadata": {},
   "outputs": [],
   "source": [
    "# Balance the classes in each batch which hopefully helps the training.\n",
    "sampler = get_weighted_random_sampler(targets, y_train)"
   ]
  },
  {
   "cell_type": "code",
   "execution_count": null,
   "metadata": {},
   "outputs": [],
   "source": [
    "batch_size = 512\n",
    "\n",
    "# Split dataset into train/val datasets\n",
    "loader_train = DataLoader(\n",
    "    dataset=train_data,\n",
    "    batch_size=batch_size,\n",
    "    sampler=sampler,\n",
    "    pin_memory=True,\n",
    "    num_workers=0)\n",
    "loader_val = DataLoader(\n",
    "    dataset=val_data,\n",
    "    num_workers=0,\n",
    "    batch_size=batch_size)\n",
    "\n",
    "dataloaders = {\n",
    "    \"train\": loader_train,\n",
    "    \"val\": loader_val\n",
    "}"
   ]
  },
  {
   "cell_type": "code",
   "execution_count": null,
   "metadata": {
    "scrolled": false
   },
   "outputs": [],
   "source": [
    "model = deep_auditory_v2()\n",
    "if torch.cuda.is_available():\n",
    "    model.cuda()\n",
    "learning_rate = 1e-3\n",
    "epochs=128\n",
    "optimizer = optim.Adam(model.parameters(), lr=learning_rate, betas=(0.9, 0.999))\n",
    "\n",
    "solver = Solver(\n",
    "    model=model,\n",
    "    optimizer=optimizer,\n",
    "    dataloaders=dataloaders,\n",
    "    learning_rate=learning_rate,\n",
    "    trained_model_name=\"deep_auditory_v2_exp3.pth\",\n",
    "    epochs=epochs)\n",
    "solver.train()"
   ]
  },
  {
   "cell_type": "code",
   "execution_count": 2,
   "metadata": {},
   "outputs": [],
   "source": [
    "device = torch.device('cpu')\n",
    "\n",
    "model = deep_auditory_v2(pretrained=True)\n",
    "model.eval()\n",
    "if torch.cuda.is_available():\n",
    "    device = torch.device('cuda')\n",
    "    model.cuda()"
   ]
  },
  {
   "cell_type": "code",
   "execution_count": 4,
   "metadata": {},
   "outputs": [
    {
     "name": "stdout",
     "output_type": "stream",
     "text": [
      "torch.Size([32, 1, 3, 3]) 0.01195588 0.23041508 -0.44311804 0.4832016\n",
      "torch.Size([32]) 1.000668 0.13506913 0.7528172 1.2881731\n",
      "torch.Size([32]) 0.016741447 0.11628908 -0.22354493 0.34997138\n",
      "torch.Size([32, 32, 3, 3]) -0.00842397 0.121347636 -0.43391904 0.4086566\n",
      "torch.Size([32]) 1.0101022 0.05380383 0.9211984 1.1595175\n",
      "torch.Size([32]) 0.015937982 0.09074649 -0.14982596 0.1793945\n",
      "torch.Size([64, 32, 3, 3]) -0.014991228 0.12530607 -0.5356139 0.4391299\n",
      "torch.Size([64]) 0.99884516 0.07463706 0.8075169 1.2038639\n",
      "torch.Size([64]) 0.15452284 0.12747581 -0.17548582 0.415933\n",
      "torch.Size([64, 64, 3, 3]) -0.017967353 0.12552185 -0.5802904 0.41256332\n",
      "torch.Size([64]) 1.0080143 0.06129231 0.8353929 1.1587982\n",
      "torch.Size([64]) -0.054166585 0.14739095 -0.37531173 0.26922706\n",
      "torch.Size([128, 64, 12, 1]) -0.01969931 0.122990415 -0.7273003 0.6409122\n",
      "torch.Size([128]) 1.0019767 0.070718214 0.830612 1.2303199\n",
      "torch.Size([128]) -0.049630634 0.1690484 -0.559656 0.3431738\n",
      "torch.Size([128, 128, 1, 9]) -0.009586699 0.1177629 -0.63486 0.4923714\n",
      "torch.Size([128]) 2.234578 0.098231144 2.0039344 2.5515196\n",
      "torch.Size([128]) 0.014253576 0.15230921 -0.35115814 0.32646656\n",
      "torch.Size([25, 128, 1, 1]) -0.027610917 0.33790004 -0.81937236 0.8927139\n",
      "torch.Size([25]) -0.019920675 0.14099318 -0.2047448 0.33602408\n"
     ]
    }
   ],
   "source": [
    "for param in model.parameters():\n",
    "    p = param.data\n",
    "    print(param.shape, p.mean().numpy(), p.std().numpy(), p.min().numpy(), p.max().numpy())"
   ]
  },
  {
   "cell_type": "code",
   "execution_count": null,
   "metadata": {},
   "outputs": [],
   "source": [
    "val_loader = (i for i,_ in loader_val)\n",
    "y_hat_matrix = forward(model, val_loader, device, 25)"
   ]
  },
  {
   "cell_type": "code",
   "execution_count": null,
   "metadata": {},
   "outputs": [],
   "source": [
    "y_hat_matrix = y_hat_matrix.cpu().data.numpy()"
   ]
  },
  {
   "cell_type": "code",
   "execution_count": null,
   "metadata": {},
   "outputs": [],
   "source": [
    "plt.rcParams['figure.figsize'] = (14, 6)\n",
    "plt.rcParams['figure.dpi'] = 80\n",
    "\n",
    "y_matrix = one_hot(y_val, 25)\n",
    "y_true = convert_annotation_matrix(y_matrix)\n",
    "\n",
    "y_pred = convert_annotation_matrix(y_hat_matrix)\n",
    "labels = get_chord_labels(nonchord=True)\n",
    "cm = confusion_matrix(y_true, y_pred, labels=labels)\n",
    "\n",
    "plot_confusion_matrix(cm, labels)"
   ]
  }
 ],
 "metadata": {
  "kernelspec": {
   "display_name": "Python 3",
   "language": "python",
   "name": "python3"
  },
  "language_info": {
   "codemirror_mode": {
    "name": "ipython",
    "version": 3
   },
   "file_extension": ".py",
   "mimetype": "text/x-python",
   "name": "python",
   "nbconvert_exporter": "python",
   "pygments_lexer": "ipython3",
   "version": "3.8.6"
  }
 },
 "nbformat": 4,
 "nbformat_minor": 4
}
